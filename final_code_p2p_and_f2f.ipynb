{
 "cells": [
  {
   "cell_type": "code",
   "execution_count": 1,
   "id": "91f4e638",
   "metadata": {},
   "outputs": [
    {
     "data": {
      "text/plain": [
       "'Z:\\\\jupyter notebook files\\\\EE Capstone\\\\play_ckd'"
      ]
     },
     "execution_count": 1,
     "metadata": {},
     "output_type": "execute_result"
    }
   ],
   "source": [
    "import os\n",
    "os.getcwd()"
   ]
  },
  {
   "cell_type": "code",
   "execution_count": 2,
   "id": "2b2f1a7f",
   "metadata": {},
   "outputs": [],
   "source": [
    "import torch\n",
    "import importlib\n",
    "import torch.nn as nn\n",
    "import numpy as np\n",
    "\n",
    "from tabulate import tabulate\n",
    "\n",
    "from get_args_parser import get_args_parser\n",
    "#from engine_test import evaluate_cmc, evaluate_p2p_eer\n",
    "from dataset import get_identification_dataloaders, get_verification_dataloaders\n",
    "from main_test import test_p2p_verification, test_f2f_verification, test_p2f_verification\n",
    "from main_test import test_p2p_identification, test_f2f_identification, test_p2f_identification\n",
    "\n",
    "from models.load_trained_models import load_trained_ckd\n",
    "from misc.utils_torch import set_seed\n",
    "from misc.utils_python import get_paths, import_yaml_config, generate_pairs"
   ]
  },
  {
   "cell_type": "code",
   "execution_count": 3,
   "id": "362e472f",
   "metadata": {},
   "outputs": [
    {
     "data": {
      "text/plain": [
       "True"
      ]
     },
     "execution_count": 3,
     "metadata": {},
     "output_type": "execute_result"
    }
   ],
   "source": [
    "torch.cuda.is_available()"
   ]
  },
  {
   "cell_type": "code",
   "execution_count": 4,
   "id": "9ec198f4",
   "metadata": {},
   "outputs": [
    {
     "name": "stdout",
     "output_type": "stream",
     "text": [
      "arguments       values\n",
      "--------------  --------------------------------------------------------------------------------------------------------------------------\n",
      "config_name     ckd_config01\n",
      "gpu_num         1\n",
      "num_workers     8\n",
      "tb_log          False\n",
      "seed\n",
      "data_root_path  Z:\\image_datasets\n",
      "save_root_path  ./saved_models\n",
      "model_name      CKD\n",
      "backbone_name   resnet18\n",
      "train_config    {'num_epochs': 90, 'batch_size': 512, 'lr': 0.1, 'milestones': [30, 60, 80], 'momentum': 0.9, 'weight_decay_rate': 0.0005}\n",
      "model_config    {'tau': 2.5}\n",
      "device          cuda\n",
      "save_dir_path   ./saved_models/ckd_config01\n",
      "log_dir_path    ./logs/result_log/ckd_config01\n",
      "tb_dir_path     ./logs/tb_log/ckd_config01/2022-08-06-20-23-42\n"
     ]
    }
   ],
   "source": [
    "parser = get_args_parser()\n",
    "args = parser.parse_args('')\n",
    "args = import_yaml_config(args)\n",
    "args.device = torch.device('cuda' if torch.cuda.is_available() else 'cpu')\n",
    "\n",
    "if args.seed != None:\n",
    "  set_seed(0)\n",
    "args = get_paths(args)\n",
    "\n",
    "print(tabulate(list(vars(args).items()), headers=['arguments', 'values']))"
   ]
  },
  {
   "cell_type": "code",
   "execution_count": 5,
   "id": "9711e80b",
   "metadata": {},
   "outputs": [],
   "source": [
    "model_modules = importlib.import_module('models.{}'.format(args.model_name))\n",
    "\n",
    "args.num_classes = 1054\n",
    "\n",
    "model = model_modules.make_model(args)\n",
    "model = model.to(args.device)\n",
    "load_trained_ckd(model, f\"{args.save_dir_path}/model_best.pth\" )\n",
    "\n",
    "args.num_workers = 4"
   ]
  },
  {
   "cell_type": "code",
   "execution_count": 6,
   "id": "2144bff8",
   "metadata": {},
   "outputs": [
    {
     "name": "stdout",
     "output_type": "stream",
     "text": [
      "The periocular-to-periocular CMC of ethnic start\n",
      "\n"
     ]
    },
    {
     "name": "stderr",
     "output_type": "stream",
     "text": [
      "52it [00:09,  5.76it/s]\n",
      "756it [01:30,  8.39it/s]\n"
     ]
    },
    {
     "name": "stdout",
     "output_type": "stream",
     "text": [
      "0.94105 \n",
      "\n"
     ]
    },
    {
     "name": "stderr",
     "output_type": "stream",
     "text": [
      "756it [01:30,  8.38it/s]\n",
      "52it [00:06,  7.63it/s]\n"
     ]
    },
    {
     "name": "stdout",
     "output_type": "stream",
     "text": [
      "0.97082 \n",
      "\n",
      "\n",
      "The periocular-to-periocular CMC of ethnic :\n",
      "[0.955935 0.967755 0.972735 0.976355 0.978535]\n",
      "\n",
      "The periocular-to-periocular CMC of pubfig start\n",
      "\n"
     ]
    },
    {
     "name": "stderr",
     "output_type": "stream",
     "text": [
      "289it [00:35,  8.25it/s]\n",
      "240it [00:30,  7.99it/s]\n"
     ]
    },
    {
     "name": "stdout",
     "output_type": "stream",
     "text": [
      "1.0 \n",
      "\n"
     ]
    },
    {
     "name": "stderr",
     "output_type": "stream",
     "text": [
      "289it [00:34,  8.35it/s]\n",
      "192it [00:24,  7.88it/s]\n"
     ]
    },
    {
     "name": "stdout",
     "output_type": "stream",
     "text": [
      "0.98843 \n",
      "\n"
     ]
    },
    {
     "name": "stderr",
     "output_type": "stream",
     "text": [
      "289it [00:34,  8.38it/s]\n",
      "191it [00:23,  8.02it/s]\n"
     ]
    },
    {
     "name": "stdout",
     "output_type": "stream",
     "text": [
      "0.98722 \n",
      "\n"
     ]
    },
    {
     "name": "stderr",
     "output_type": "stream",
     "text": [
      "240it [00:28,  8.33it/s]\n",
      "289it [00:34,  8.27it/s]\n"
     ]
    },
    {
     "name": "stdout",
     "output_type": "stream",
     "text": [
      "0.9769 \n",
      "\n"
     ]
    },
    {
     "name": "stderr",
     "output_type": "stream",
     "text": [
      "240it [00:28,  8.31it/s]\n",
      "192it [00:23,  8.24it/s]\n"
     ]
    },
    {
     "name": "stdout",
     "output_type": "stream",
     "text": [
      "0.98843 \n",
      "\n"
     ]
    },
    {
     "name": "stderr",
     "output_type": "stream",
     "text": [
      "240it [00:28,  8.32it/s]\n",
      "191it [00:23,  8.21it/s]\n"
     ]
    },
    {
     "name": "stdout",
     "output_type": "stream",
     "text": [
      "0.98689 \n",
      "\n"
     ]
    },
    {
     "name": "stderr",
     "output_type": "stream",
     "text": [
      "192it [00:23,  8.28it/s]\n",
      "289it [00:34,  8.33it/s]\n"
     ]
    },
    {
     "name": "stdout",
     "output_type": "stream",
     "text": [
      "0.93949 \n",
      "\n"
     ]
    },
    {
     "name": "stderr",
     "output_type": "stream",
     "text": [
      "192it [00:23,  8.31it/s]\n",
      "240it [00:29,  8.26it/s]\n"
     ]
    },
    {
     "name": "stdout",
     "output_type": "stream",
     "text": [
      "0.95964 \n",
      "\n"
     ]
    },
    {
     "name": "stderr",
     "output_type": "stream",
     "text": [
      "192it [00:23,  8.28it/s]\n",
      "191it [00:23,  8.24it/s]\n"
     ]
    },
    {
     "name": "stdout",
     "output_type": "stream",
     "text": [
      "0.98082 \n",
      "\n"
     ]
    },
    {
     "name": "stderr",
     "output_type": "stream",
     "text": [
      "191it [00:23,  8.30it/s]\n",
      "289it [00:34,  8.32it/s]\n"
     ]
    },
    {
     "name": "stdout",
     "output_type": "stream",
     "text": [
      "0.94209 \n",
      "\n"
     ]
    },
    {
     "name": "stderr",
     "output_type": "stream",
     "text": [
      "191it [00:23,  8.29it/s]\n",
      "240it [00:29,  8.27it/s]\n"
     ]
    },
    {
     "name": "stdout",
     "output_type": "stream",
     "text": [
      "0.9599 \n",
      "\n"
     ]
    },
    {
     "name": "stderr",
     "output_type": "stream",
     "text": [
      "191it [00:22,  8.31it/s]\n",
      "192it [00:23,  8.21it/s]\n"
     ]
    },
    {
     "name": "stdout",
     "output_type": "stream",
     "text": [
      "0.98403 \n",
      "\n",
      "\n",
      "The periocular-to-periocular CMC of pubfig :\n",
      "[0.97448667 0.98236167 0.9854475  0.98739417 0.98869917]\n",
      "\n",
      "The periocular-to-periocular CMC of facescrub start\n",
      "\n"
     ]
    },
    {
     "name": "stderr",
     "output_type": "stream",
     "text": [
      "971it [01:54,  8.45it/s]\n",
      "673it [01:22,  8.13it/s]\n"
     ]
    },
    {
     "name": "stdout",
     "output_type": "stream",
     "text": [
      "0.98406 \n",
      "\n"
     ]
    },
    {
     "name": "stderr",
     "output_type": "stream",
     "text": [
      "971it [01:54,  8.46it/s]\n",
      "853it [01:46,  8.04it/s]\n"
     ]
    },
    {
     "name": "stdout",
     "output_type": "stream",
     "text": [
      "0.97409 \n",
      "\n"
     ]
    },
    {
     "name": "stderr",
     "output_type": "stream",
     "text": [
      "673it [01:19,  8.45it/s]\n",
      "971it [01:56,  8.36it/s]\n"
     ]
    },
    {
     "name": "stdout",
     "output_type": "stream",
     "text": [
      "0.96449 \n",
      "\n"
     ]
    },
    {
     "name": "stderr",
     "output_type": "stream",
     "text": [
      "673it [01:19,  8.44it/s]\n",
      "853it [01:42,  8.35it/s]\n"
     ]
    },
    {
     "name": "stdout",
     "output_type": "stream",
     "text": [
      "0.97157 \n",
      "\n"
     ]
    },
    {
     "name": "stderr",
     "output_type": "stream",
     "text": [
      "853it [01:40,  8.45it/s]\n",
      "971it [01:56,  8.33it/s]\n"
     ]
    },
    {
     "name": "stdout",
     "output_type": "stream",
     "text": [
      "0.96614 \n",
      "\n"
     ]
    },
    {
     "name": "stderr",
     "output_type": "stream",
     "text": [
      "853it [01:41,  8.44it/s]\n",
      "673it [01:20,  8.31it/s]\n"
     ]
    },
    {
     "name": "stdout",
     "output_type": "stream",
     "text": [
      "0.98369 \n",
      "\n",
      "\n",
      "The periocular-to-periocular CMC of facescrub :\n",
      "[0.97400667 0.98002    0.982215   0.98361833 0.98452667]\n",
      "\n",
      "The periocular-to-periocular CMC of imdb_wiki start\n",
      "\n"
     ]
    },
    {
     "name": "stderr",
     "output_type": "stream",
     "text": [
      "1258it [02:28,  8.46it/s]\n",
      "552it [01:08,  8.04it/s]\n"
     ]
    },
    {
     "name": "stdout",
     "output_type": "stream",
     "text": [
      "0.86448 \n",
      "\n"
     ]
    },
    {
     "name": "stderr",
     "output_type": "stream",
     "text": [
      "1258it [02:29,  8.44it/s]\n",
      "477it [00:59,  7.98it/s]\n"
     ]
    },
    {
     "name": "stdout",
     "output_type": "stream",
     "text": [
      "0.89752 \n",
      "\n"
     ]
    },
    {
     "name": "stderr",
     "output_type": "stream",
     "text": [
      "1258it [02:28,  8.47it/s]\n",
      "509it [01:03,  8.01it/s]\n"
     ]
    },
    {
     "name": "stdout",
     "output_type": "stream",
     "text": [
      "0.90069 \n",
      "\n"
     ]
    },
    {
     "name": "stderr",
     "output_type": "stream",
     "text": [
      "552it [01:05,  8.42it/s]\n",
      "1258it [02:29,  8.40it/s]\n"
     ]
    },
    {
     "name": "stdout",
     "output_type": "stream",
     "text": [
      "0.77197 \n",
      "\n"
     ]
    },
    {
     "name": "stderr",
     "output_type": "stream",
     "text": [
      "552it [01:05,  8.42it/s]\n",
      "477it [00:57,  8.35it/s]\n"
     ]
    },
    {
     "name": "stdout",
     "output_type": "stream",
     "text": [
      "0.87497 \n",
      "\n"
     ]
    },
    {
     "name": "stderr",
     "output_type": "stream",
     "text": [
      "552it [01:05,  8.41it/s]\n",
      "509it [01:00,  8.35it/s]\n"
     ]
    },
    {
     "name": "stdout",
     "output_type": "stream",
     "text": [
      "0.87132 \n",
      "\n"
     ]
    },
    {
     "name": "stderr",
     "output_type": "stream",
     "text": [
      "477it [00:56,  8.42it/s]\n",
      "1258it [02:29,  8.42it/s]\n"
     ]
    },
    {
     "name": "stdout",
     "output_type": "stream",
     "text": [
      "0.74829 \n",
      "\n"
     ]
    },
    {
     "name": "stderr",
     "output_type": "stream",
     "text": [
      "477it [00:56,  8.40it/s]\n",
      "552it [01:05,  8.37it/s]\n"
     ]
    },
    {
     "name": "stdout",
     "output_type": "stream",
     "text": [
      "0.81793 \n",
      "\n"
     ]
    },
    {
     "name": "stderr",
     "output_type": "stream",
     "text": [
      "477it [00:56,  8.39it/s]\n",
      "509it [01:00,  8.37it/s]\n"
     ]
    },
    {
     "name": "stdout",
     "output_type": "stream",
     "text": [
      "0.8664 \n",
      "\n"
     ]
    },
    {
     "name": "stderr",
     "output_type": "stream",
     "text": [
      "509it [01:00,  8.42it/s]\n",
      "1258it [02:30,  8.37it/s]\n"
     ]
    },
    {
     "name": "stdout",
     "output_type": "stream",
     "text": [
      "0.7628 \n",
      "\n"
     ]
    },
    {
     "name": "stderr",
     "output_type": "stream",
     "text": [
      "509it [01:00,  8.38it/s]\n",
      "552it [01:06,  8.33it/s]\n"
     ]
    },
    {
     "name": "stdout",
     "output_type": "stream",
     "text": [
      "0.81918 \n",
      "\n"
     ]
    },
    {
     "name": "stderr",
     "output_type": "stream",
     "text": [
      "509it [01:00,  8.40it/s]\n",
      "477it [00:57,  8.35it/s]\n"
     ]
    },
    {
     "name": "stdout",
     "output_type": "stream",
     "text": [
      "0.87287 \n",
      "\n",
      "\n",
      "The periocular-to-periocular CMC of imdb_wiki :\n",
      "[0.839035   0.87644667 0.8919175  0.9012975  0.9079975 ]\n",
      "\n",
      "The periocular-to-periocular CMC of ar start\n",
      "\n"
     ]
    },
    {
     "name": "stderr",
     "output_type": "stream",
     "text": [
      "22it [00:03,  6.22it/s]\n",
      "88it [00:11,  7.63it/s]\n"
     ]
    },
    {
     "name": "stdout",
     "output_type": "stream",
     "text": [
      "0.83464 \n",
      "\n"
     ]
    },
    {
     "name": "stderr",
     "output_type": "stream",
     "text": [
      "22it [00:03,  6.73it/s]\n",
      "44it [00:06,  7.24it/s]\n"
     ]
    },
    {
     "name": "stdout",
     "output_type": "stream",
     "text": [
      "0.99 \n",
      "\n"
     ]
    },
    {
     "name": "stderr",
     "output_type": "stream",
     "text": [
      "22it [00:03,  7.06it/s]\n",
      "110it [00:13,  8.01it/s]\n"
     ]
    },
    {
     "name": "stdout",
     "output_type": "stream",
     "text": [
      "0.972 \n",
      "\n"
     ]
    },
    {
     "name": "stderr",
     "output_type": "stream",
     "text": [
      "22it [00:03,  6.60it/s]\n",
      "19it [00:05,  3.71it/s]\n"
     ]
    },
    {
     "name": "stdout",
     "output_type": "stream",
     "text": [
      "0.99833 \n",
      "\n"
     ]
    },
    {
     "name": "stderr",
     "output_type": "stream",
     "text": [
      "88it [00:10,  8.09it/s]\n",
      "22it [00:03,  6.89it/s]\n"
     ]
    },
    {
     "name": "stdout",
     "output_type": "stream",
     "text": [
      "0.98143 \n",
      "\n"
     ]
    },
    {
     "name": "stderr",
     "output_type": "stream",
     "text": [
      "88it [00:10,  8.12it/s]\n",
      "44it [00:05,  7.72it/s]\n"
     ]
    },
    {
     "name": "stdout",
     "output_type": "stream",
     "text": [
      "1.0 \n",
      "\n"
     ]
    },
    {
     "name": "stderr",
     "output_type": "stream",
     "text": [
      "88it [00:10,  8.19it/s]\n",
      "110it [00:13,  8.20it/s]\n"
     ]
    },
    {
     "name": "stdout",
     "output_type": "stream",
     "text": [
      "0.99743 \n",
      "\n"
     ]
    },
    {
     "name": "stderr",
     "output_type": "stream",
     "text": [
      "88it [00:10,  8.02it/s]\n",
      "19it [00:04,  3.92it/s]\n"
     ]
    },
    {
     "name": "stdout",
     "output_type": "stream",
     "text": [
      "0.99333 \n",
      "\n"
     ]
    },
    {
     "name": "stderr",
     "output_type": "stream",
     "text": [
      "44it [00:05,  7.67it/s]\n",
      "22it [00:03,  6.74it/s]\n"
     ]
    },
    {
     "name": "stdout",
     "output_type": "stream",
     "text": [
      "0.99 \n",
      "\n"
     ]
    },
    {
     "name": "stderr",
     "output_type": "stream",
     "text": [
      "44it [00:05,  7.63it/s]\n",
      "88it [00:10,  8.16it/s]\n"
     ]
    },
    {
     "name": "stdout",
     "output_type": "stream",
     "text": [
      "0.93357 \n",
      "\n"
     ]
    },
    {
     "name": "stderr",
     "output_type": "stream",
     "text": [
      "44it [00:05,  7.64it/s]\n",
      "110it [00:13,  8.20it/s]\n"
     ]
    },
    {
     "name": "stdout",
     "output_type": "stream",
     "text": [
      "0.99857 \n",
      "\n"
     ]
    },
    {
     "name": "stderr",
     "output_type": "stream",
     "text": [
      "44it [00:05,  7.60it/s]\n",
      "19it [00:04,  3.92it/s]\n"
     ]
    },
    {
     "name": "stdout",
     "output_type": "stream",
     "text": [
      "0.99833 \n",
      "\n"
     ]
    },
    {
     "name": "stderr",
     "output_type": "stream",
     "text": [
      "110it [00:13,  8.15it/s]\n",
      "22it [00:03,  6.77it/s]\n"
     ]
    },
    {
     "name": "stdout",
     "output_type": "stream",
     "text": [
      "0.99286 \n",
      "\n"
     ]
    },
    {
     "name": "stderr",
     "output_type": "stream",
     "text": [
      "110it [00:13,  8.20it/s]\n",
      "88it [00:10,  8.09it/s]\n"
     ]
    },
    {
     "name": "stdout",
     "output_type": "stream",
     "text": [
      "0.91821 \n",
      "\n"
     ]
    },
    {
     "name": "stderr",
     "output_type": "stream",
     "text": [
      "110it [00:13,  8.19it/s]\n",
      "44it [00:05,  7.59it/s]\n"
     ]
    },
    {
     "name": "stdout",
     "output_type": "stream",
     "text": [
      "0.99857 \n",
      "\n"
     ]
    },
    {
     "name": "stderr",
     "output_type": "stream",
     "text": [
      "110it [00:13,  8.18it/s]\n",
      "19it [00:04,  3.85it/s]\n"
     ]
    },
    {
     "name": "stdout",
     "output_type": "stream",
     "text": [
      "0.99833 \n",
      "\n"
     ]
    },
    {
     "name": "stderr",
     "output_type": "stream",
     "text": [
      "19it [00:04,  4.02it/s]\n",
      "22it [00:03,  6.79it/s]\n"
     ]
    },
    {
     "name": "stdout",
     "output_type": "stream",
     "text": [
      "0.95 \n",
      "\n"
     ]
    },
    {
     "name": "stderr",
     "output_type": "stream",
     "text": [
      "19it [00:04,  3.95it/s]\n",
      "88it [00:10,  8.04it/s]\n"
     ]
    },
    {
     "name": "stdout",
     "output_type": "stream",
     "text": [
      "0.80107 \n",
      "\n"
     ]
    },
    {
     "name": "stderr",
     "output_type": "stream",
     "text": [
      "19it [00:04,  3.85it/s]\n",
      "44it [00:05,  7.62it/s]\n"
     ]
    },
    {
     "name": "stdout",
     "output_type": "stream",
     "text": [
      "0.93857 \n",
      "\n"
     ]
    },
    {
     "name": "stderr",
     "output_type": "stream",
     "text": [
      "19it [00:04,  3.93it/s]\n",
      "110it [00:13,  8.22it/s]\n"
     ]
    },
    {
     "name": "stdout",
     "output_type": "stream",
     "text": [
      "0.92371 \n",
      "\n",
      "\n",
      "The periocular-to-periocular CMC of ar :\n",
      "[0.9604475 0.9696045 0.9753595 0.978839  0.9814045]\n",
      "\n",
      "The periocular-to-periocular CMC of ytf start\n",
      "\n"
     ]
    },
    {
     "name": "stderr",
     "output_type": "stream",
     "text": [
      "4696it [09:13,  8.48it/s]\n",
      "1157it [02:40,  7.22it/s]\n"
     ]
    },
    {
     "name": "stdout",
     "output_type": "stream",
     "text": [
      "0.73329 \n",
      "\n"
     ]
    },
    {
     "name": "stderr",
     "output_type": "stream",
     "text": [
      "1157it [02:16,  8.47it/s]\n",
      "4696it [09:40,  8.08it/s]\n"
     ]
    },
    {
     "name": "stdout",
     "output_type": "stream",
     "text": [
      "0.5365 \n",
      "\n",
      "\n",
      "The periocular-to-periocular CMC of ytf :\n",
      "[0.634895 0.66516  0.68367  0.69608  0.706185]\n",
      "\n",
      "The periocular-to-periocular CMC dictionary : \n",
      "{'ethnic': array([0.955935, 0.967755, 0.972735, 0.976355, 0.978535]), 'pubfig': array([0.97448667, 0.98236167, 0.9854475 , 0.98739417, 0.98869917]), 'facescrub': array([0.97400667, 0.98002   , 0.982215  , 0.98361833, 0.98452667]), 'imdb_wiki': array([0.839035  , 0.87644667, 0.8919175 , 0.9012975 , 0.9079975 ]), 'ar': array([0.9604475, 0.9696045, 0.9753595, 0.978839 , 0.9814045]), 'ytf': array([0.634895, 0.66516 , 0.68367 , 0.69608 , 0.706185])}\n"
     ]
    }
   ],
   "source": [
    "test_p2p_identification(args, model)"
   ]
  },
  {
   "cell_type": "code",
   "execution_count": 9,
   "id": "a8ef0b30",
   "metadata": {},
   "outputs": [
    {
     "name": "stdout",
     "output_type": "stream",
     "text": [
      "The face-to-face CMC of ethnic start\n",
      "\n"
     ]
    },
    {
     "name": "stderr",
     "output_type": "stream",
     "text": [
      "52it [00:06,  7.48it/s]\n",
      "756it [01:30,  8.36it/s]\n"
     ]
    },
    {
     "name": "stdout",
     "output_type": "stream",
     "text": [
      "0.95664 \n",
      "\n"
     ]
    },
    {
     "name": "stderr",
     "output_type": "stream",
     "text": [
      "756it [01:29,  8.46it/s]\n",
      "52it [00:06,  7.65it/s]\n"
     ]
    },
    {
     "name": "stdout",
     "output_type": "stream",
     "text": [
      "0.97386 \n",
      "\n",
      "\n",
      "The face-to-face CMC of ethnic :\n",
      "[0.96525  0.97503  0.97886  0.98102  0.982765]\n",
      "\n",
      "The face-to-face CMC of pubfig start\n",
      "\n"
     ]
    },
    {
     "name": "stderr",
     "output_type": "stream",
     "text": [
      "289it [00:34,  8.28it/s]\n",
      "240it [00:29,  8.11it/s]\n"
     ]
    },
    {
     "name": "stdout",
     "output_type": "stream",
     "text": [
      "1.0 \n",
      "\n"
     ]
    },
    {
     "name": "stderr",
     "output_type": "stream",
     "text": [
      "289it [00:34,  8.36it/s]\n",
      "192it [00:24,  7.93it/s]\n"
     ]
    },
    {
     "name": "stdout",
     "output_type": "stream",
     "text": [
      "0.99169 \n",
      "\n"
     ]
    },
    {
     "name": "stderr",
     "output_type": "stream",
     "text": [
      "289it [00:34,  8.36it/s]\n",
      "191it [00:23,  7.98it/s]\n"
     ]
    },
    {
     "name": "stdout",
     "output_type": "stream",
     "text": [
      "0.99246 \n",
      "\n"
     ]
    },
    {
     "name": "stderr",
     "output_type": "stream",
     "text": [
      "240it [00:28,  8.31it/s]\n",
      "289it [00:34,  8.27it/s]\n"
     ]
    },
    {
     "name": "stdout",
     "output_type": "stream",
     "text": [
      "0.98352 \n",
      "\n"
     ]
    },
    {
     "name": "stderr",
     "output_type": "stream",
     "text": [
      "240it [00:28,  8.28it/s]\n",
      "192it [00:23,  8.19it/s]\n"
     ]
    },
    {
     "name": "stdout",
     "output_type": "stream",
     "text": [
      "0.99218 \n",
      "\n"
     ]
    },
    {
     "name": "stderr",
     "output_type": "stream",
     "text": [
      "240it [00:28,  8.32it/s]\n",
      "191it [00:23,  8.17it/s]\n"
     ]
    },
    {
     "name": "stdout",
     "output_type": "stream",
     "text": [
      "0.99115 \n",
      "\n"
     ]
    },
    {
     "name": "stderr",
     "output_type": "stream",
     "text": [
      "192it [00:23,  8.31it/s]\n",
      "289it [00:34,  8.32it/s]\n"
     ]
    },
    {
     "name": "stdout",
     "output_type": "stream",
     "text": [
      "0.95358 \n",
      "\n"
     ]
    },
    {
     "name": "stderr",
     "output_type": "stream",
     "text": [
      "192it [00:23,  8.26it/s]\n",
      "240it [00:29,  8.23it/s]\n"
     ]
    },
    {
     "name": "stdout",
     "output_type": "stream",
     "text": [
      "0.96836 \n",
      "\n"
     ]
    },
    {
     "name": "stderr",
     "output_type": "stream",
     "text": [
      "192it [00:23,  8.30it/s]\n",
      "191it [00:23,  8.22it/s]\n"
     ]
    },
    {
     "name": "stdout",
     "output_type": "stream",
     "text": [
      "0.98722 \n",
      "\n"
     ]
    },
    {
     "name": "stderr",
     "output_type": "stream",
     "text": [
      "191it [00:23,  8.29it/s]\n",
      "289it [00:34,  8.29it/s]\n"
     ]
    },
    {
     "name": "stdout",
     "output_type": "stream",
     "text": [
      "0.95705 \n",
      "\n"
     ]
    },
    {
     "name": "stderr",
     "output_type": "stream",
     "text": [
      "191it [00:22,  8.34it/s]\n",
      "240it [00:29,  8.25it/s]\n"
     ]
    },
    {
     "name": "stdout",
     "output_type": "stream",
     "text": [
      "0.97135 \n",
      "\n"
     ]
    },
    {
     "name": "stderr",
     "output_type": "stream",
     "text": [
      "191it [00:23,  8.30it/s]\n",
      "192it [00:23,  8.24it/s]\n"
     ]
    },
    {
     "name": "stdout",
     "output_type": "stream",
     "text": [
      "0.99022 \n",
      "\n",
      "\n",
      "The face-to-face CMC of pubfig :\n",
      "[0.981565   0.98756917 0.99024583 0.99181083 0.99255833]\n",
      "\n",
      "The face-to-face CMC of facescrub start\n",
      "\n"
     ]
    },
    {
     "name": "stderr",
     "output_type": "stream",
     "text": [
      "971it [01:55,  8.43it/s]\n",
      "673it [01:22,  8.13it/s]\n"
     ]
    },
    {
     "name": "stdout",
     "output_type": "stream",
     "text": [
      "0.98736 \n",
      "\n"
     ]
    },
    {
     "name": "stderr",
     "output_type": "stream",
     "text": [
      "971it [01:55,  8.44it/s]\n",
      "853it [01:44,  8.14it/s]\n"
     ]
    },
    {
     "name": "stdout",
     "output_type": "stream",
     "text": [
      "0.97926 \n",
      "\n"
     ]
    },
    {
     "name": "stderr",
     "output_type": "stream",
     "text": [
      "673it [01:19,  8.42it/s]\n",
      "971it [01:56,  8.31it/s]\n"
     ]
    },
    {
     "name": "stdout",
     "output_type": "stream",
     "text": [
      "0.97142 \n",
      "\n"
     ]
    },
    {
     "name": "stderr",
     "output_type": "stream",
     "text": [
      "673it [01:20,  8.37it/s]\n",
      "853it [01:45,  8.11it/s]\n"
     ]
    },
    {
     "name": "stdout",
     "output_type": "stream",
     "text": [
      "0.97743 \n",
      "\n"
     ]
    },
    {
     "name": "stderr",
     "output_type": "stream",
     "text": [
      "853it [01:42,  8.36it/s]\n",
      "971it [01:58,  8.22it/s]\n"
     ]
    },
    {
     "name": "stdout",
     "output_type": "stream",
     "text": [
      "0.97232 \n",
      "\n"
     ]
    },
    {
     "name": "stderr",
     "output_type": "stream",
     "text": [
      "853it [01:41,  8.38it/s]\n",
      "673it [01:21,  8.25it/s]\n"
     ]
    },
    {
     "name": "stdout",
     "output_type": "stream",
     "text": [
      "0.98722 \n",
      "\n",
      "\n",
      "The face-to-face CMC of facescrub :\n",
      "[0.97916833 0.984295   0.98591333 0.98688    0.98758333]\n",
      "\n",
      "The face-to-face CMC of imdb_wiki start\n",
      "\n"
     ]
    },
    {
     "name": "stderr",
     "output_type": "stream",
     "text": [
      "1258it [02:29,  8.41it/s]\n",
      "552it [01:09,  7.95it/s]\n"
     ]
    },
    {
     "name": "stdout",
     "output_type": "stream",
     "text": [
      "0.8856 \n",
      "\n"
     ]
    },
    {
     "name": "stderr",
     "output_type": "stream",
     "text": [
      "1258it [02:29,  8.43it/s]\n",
      "477it [00:59,  7.99it/s]\n"
     ]
    },
    {
     "name": "stdout",
     "output_type": "stream",
     "text": [
      "0.91719 \n",
      "\n"
     ]
    },
    {
     "name": "stderr",
     "output_type": "stream",
     "text": [
      "1258it [02:30,  8.36it/s]\n",
      "509it [01:03,  8.03it/s]\n"
     ]
    },
    {
     "name": "stdout",
     "output_type": "stream",
     "text": [
      "0.9179 \n",
      "\n"
     ]
    },
    {
     "name": "stderr",
     "output_type": "stream",
     "text": [
      "552it [01:05,  8.42it/s]\n",
      "1258it [02:29,  8.39it/s]\n"
     ]
    },
    {
     "name": "stdout",
     "output_type": "stream",
     "text": [
      "0.80505 \n",
      "\n"
     ]
    },
    {
     "name": "stderr",
     "output_type": "stream",
     "text": [
      "552it [01:05,  8.40it/s]\n",
      "477it [00:57,  8.33it/s]\n"
     ]
    },
    {
     "name": "stdout",
     "output_type": "stream",
     "text": [
      "0.89359 \n",
      "\n"
     ]
    },
    {
     "name": "stderr",
     "output_type": "stream",
     "text": [
      "552it [01:05,  8.42it/s]\n",
      "509it [01:01,  8.34it/s]\n"
     ]
    },
    {
     "name": "stdout",
     "output_type": "stream",
     "text": [
      "0.89523 \n",
      "\n"
     ]
    },
    {
     "name": "stderr",
     "output_type": "stream",
     "text": [
      "477it [00:56,  8.41it/s]\n",
      "1258it [02:29,  8.41it/s]\n"
     ]
    },
    {
     "name": "stdout",
     "output_type": "stream",
     "text": [
      "0.78256 \n",
      "\n"
     ]
    },
    {
     "name": "stderr",
     "output_type": "stream",
     "text": [
      "477it [00:56,  8.39it/s]\n",
      "552it [01:05,  8.37it/s]\n"
     ]
    },
    {
     "name": "stdout",
     "output_type": "stream",
     "text": [
      "0.84426 \n",
      "\n"
     ]
    },
    {
     "name": "stderr",
     "output_type": "stream",
     "text": [
      "477it [00:56,  8.40it/s]\n",
      "509it [01:00,  8.35it/s]\n"
     ]
    },
    {
     "name": "stdout",
     "output_type": "stream",
     "text": [
      "0.8889 \n",
      "\n"
     ]
    },
    {
     "name": "stderr",
     "output_type": "stream",
     "text": [
      "509it [01:00,  8.41it/s]\n",
      "1258it [02:29,  8.39it/s]\n"
     ]
    },
    {
     "name": "stdout",
     "output_type": "stream",
     "text": [
      "0.79618 \n",
      "\n"
     ]
    },
    {
     "name": "stderr",
     "output_type": "stream",
     "text": [
      "509it [01:00,  8.40it/s]\n",
      "552it [01:06,  8.34it/s]\n"
     ]
    },
    {
     "name": "stdout",
     "output_type": "stream",
     "text": [
      "0.85281 \n",
      "\n"
     ]
    },
    {
     "name": "stderr",
     "output_type": "stream",
     "text": [
      "509it [01:00,  8.41it/s]\n",
      "477it [00:57,  8.33it/s]\n"
     ]
    },
    {
     "name": "stdout",
     "output_type": "stream",
     "text": [
      "0.89601 \n",
      "\n",
      "\n",
      "The face-to-face CMC of imdb_wiki :\n",
      "[0.86460667 0.8983575  0.91166083 0.9192775  0.92510417]\n",
      "\n",
      "The face-to-face CMC of ar start\n",
      "\n"
     ]
    },
    {
     "name": "stderr",
     "output_type": "stream",
     "text": [
      "22it [00:03,  6.00it/s]\n",
      "88it [00:11,  7.62it/s]\n"
     ]
    },
    {
     "name": "stdout",
     "output_type": "stream",
     "text": [
      "0.63929 \n",
      "\n"
     ]
    },
    {
     "name": "stderr",
     "output_type": "stream",
     "text": [
      "22it [00:03,  6.73it/s]\n",
      "44it [00:06,  7.10it/s]\n"
     ]
    },
    {
     "name": "stdout",
     "output_type": "stream",
     "text": [
      "0.98643 \n",
      "\n"
     ]
    },
    {
     "name": "stderr",
     "output_type": "stream",
     "text": [
      "22it [00:03,  7.02it/s]\n",
      "110it [00:13,  7.95it/s]\n"
     ]
    },
    {
     "name": "stdout",
     "output_type": "stream",
     "text": [
      "0.976 \n",
      "\n"
     ]
    },
    {
     "name": "stderr",
     "output_type": "stream",
     "text": [
      "22it [00:03,  6.82it/s]\n",
      "19it [00:05,  3.67it/s]\n"
     ]
    },
    {
     "name": "stdout",
     "output_type": "stream",
     "text": [
      "0.99667 \n",
      "\n"
     ]
    },
    {
     "name": "stderr",
     "output_type": "stream",
     "text": [
      "88it [00:10,  8.05it/s]\n",
      "22it [00:03,  7.00it/s]\n"
     ]
    },
    {
     "name": "stdout",
     "output_type": "stream",
     "text": [
      "0.98286 \n",
      "\n"
     ]
    },
    {
     "name": "stderr",
     "output_type": "stream",
     "text": [
      "88it [00:11,  7.86it/s]\n",
      "44it [00:05,  7.64it/s]\n"
     ]
    },
    {
     "name": "stdout",
     "output_type": "stream",
     "text": [
      "1.0 \n",
      "\n"
     ]
    },
    {
     "name": "stderr",
     "output_type": "stream",
     "text": [
      "88it [00:10,  8.12it/s]\n",
      "110it [00:13,  8.22it/s]\n"
     ]
    },
    {
     "name": "stdout",
     "output_type": "stream",
     "text": [
      "0.99914 \n",
      "\n"
     ]
    },
    {
     "name": "stderr",
     "output_type": "stream",
     "text": [
      "88it [00:10,  8.06it/s]\n",
      "19it [00:04,  3.89it/s]\n"
     ]
    },
    {
     "name": "stdout",
     "output_type": "stream",
     "text": [
      "0.995 \n",
      "\n"
     ]
    },
    {
     "name": "stderr",
     "output_type": "stream",
     "text": [
      "44it [00:05,  7.56it/s]\n",
      "22it [00:03,  6.82it/s]\n"
     ]
    },
    {
     "name": "stdout",
     "output_type": "stream",
     "text": [
      "0.98857 \n",
      "\n"
     ]
    },
    {
     "name": "stderr",
     "output_type": "stream",
     "text": [
      "44it [00:05,  7.70it/s]\n",
      "88it [00:10,  8.08it/s]\n"
     ]
    },
    {
     "name": "stdout",
     "output_type": "stream",
     "text": [
      "0.76107 \n",
      "\n"
     ]
    },
    {
     "name": "stderr",
     "output_type": "stream",
     "text": [
      "44it [00:05,  7.60it/s]\n",
      "110it [00:13,  8.17it/s]\n"
     ]
    },
    {
     "name": "stdout",
     "output_type": "stream",
     "text": [
      "1.0 \n",
      "\n"
     ]
    },
    {
     "name": "stderr",
     "output_type": "stream",
     "text": [
      "44it [00:05,  7.73it/s]\n",
      "19it [00:04,  3.91it/s]\n"
     ]
    },
    {
     "name": "stdout",
     "output_type": "stream",
     "text": [
      "0.99833 \n",
      "\n"
     ]
    },
    {
     "name": "stderr",
     "output_type": "stream",
     "text": [
      "110it [00:13,  8.13it/s]\n",
      "22it [00:03,  6.71it/s]\n"
     ]
    },
    {
     "name": "stdout",
     "output_type": "stream",
     "text": [
      "0.98714 \n",
      "\n"
     ]
    },
    {
     "name": "stderr",
     "output_type": "stream",
     "text": [
      "110it [00:13,  8.19it/s]\n",
      "88it [00:11,  7.99it/s]\n"
     ]
    },
    {
     "name": "stdout",
     "output_type": "stream",
     "text": [
      "0.73179 \n",
      "\n"
     ]
    },
    {
     "name": "stderr",
     "output_type": "stream",
     "text": [
      "110it [00:13,  8.16it/s]\n",
      "44it [00:05,  7.55it/s]\n"
     ]
    },
    {
     "name": "stdout",
     "output_type": "stream",
     "text": [
      "0.99857 \n",
      "\n"
     ]
    },
    {
     "name": "stderr",
     "output_type": "stream",
     "text": [
      "110it [00:13,  8.14it/s]\n",
      "19it [00:04,  3.85it/s]\n"
     ]
    },
    {
     "name": "stdout",
     "output_type": "stream",
     "text": [
      "1.0 \n",
      "\n"
     ]
    },
    {
     "name": "stderr",
     "output_type": "stream",
     "text": [
      "19it [00:04,  3.90it/s]\n",
      "22it [00:03,  6.87it/s]\n"
     ]
    },
    {
     "name": "stdout",
     "output_type": "stream",
     "text": [
      "0.95429 \n",
      "\n"
     ]
    },
    {
     "name": "stderr",
     "output_type": "stream",
     "text": [
      "19it [00:04,  3.98it/s]\n",
      "88it [00:10,  8.16it/s]\n"
     ]
    },
    {
     "name": "stdout",
     "output_type": "stream",
     "text": [
      "0.61857 \n",
      "\n"
     ]
    },
    {
     "name": "stderr",
     "output_type": "stream",
     "text": [
      "19it [00:04,  3.87it/s]\n",
      "44it [00:05,  7.58it/s]\n"
     ]
    },
    {
     "name": "stdout",
     "output_type": "stream",
     "text": [
      "0.94857 \n",
      "\n"
     ]
    },
    {
     "name": "stderr",
     "output_type": "stream",
     "text": [
      "19it [00:04,  3.93it/s]\n",
      "110it [00:13,  8.14it/s]\n"
     ]
    },
    {
     "name": "stdout",
     "output_type": "stream",
     "text": [
      "0.93829 \n",
      "\n",
      "\n",
      "The face-to-face CMC of ar :\n",
      "[0.925029 0.937879 0.944534 0.949669 0.95327 ]\n",
      "\n",
      "The face-to-face CMC of ytf start\n",
      "\n"
     ]
    },
    {
     "name": "stderr",
     "output_type": "stream",
     "text": [
      "4696it [09:14,  8.46it/s]\n",
      "1157it [02:40,  7.23it/s]\n"
     ]
    },
    {
     "name": "stdout",
     "output_type": "stream",
     "text": [
      "0.80746 \n",
      "\n"
     ]
    },
    {
     "name": "stderr",
     "output_type": "stream",
     "text": [
      "1157it [02:17,  8.44it/s]\n",
      "4696it [09:36,  8.14it/s]\n"
     ]
    },
    {
     "name": "stdout",
     "output_type": "stream",
     "text": [
      "0.61797 \n",
      "\n",
      "\n",
      "The face-to-face CMC of ytf :\n",
      "[0.712715 0.73846  0.755395 0.767875 0.77666 ]\n",
      "\n",
      "The face-to-face CMC dictionary : \n",
      "{'ethnic': array([0.96525 , 0.97503 , 0.97886 , 0.98102 , 0.982765]), 'pubfig': array([0.981565  , 0.98756917, 0.99024583, 0.99181083, 0.99255833]), 'facescrub': array([0.97916833, 0.984295  , 0.98591333, 0.98688   , 0.98758333]), 'imdb_wiki': array([0.86460667, 0.8983575 , 0.91166083, 0.9192775 , 0.92510417]), 'ar': array([0.925029, 0.937879, 0.944534, 0.949669, 0.95327 ]), 'ytf': array([0.712715, 0.73846 , 0.755395, 0.767875, 0.77666 ])}\n",
      "time elapsed : 1h 117m 0.23s\n"
     ]
    }
   ],
   "source": [
    "test_f2f_identification(args, model)"
   ]
  },
  {
   "cell_type": "code",
   "execution_count": 6,
   "id": "ea16792f",
   "metadata": {},
   "outputs": [
    {
     "name": "stdout",
     "output_type": "stream",
     "text": [
      "The periocular-to-periocular EER of ethnic start\n",
      "\n"
     ]
    },
    {
     "name": "stderr",
     "output_type": "stream",
     "text": [
      "42it [00:11,  3.77it/s]\n"
     ]
    },
    {
     "name": "stdout",
     "output_type": "stream",
     "text": [
      "\n",
      "The periocular-to-periocular EER of ethnic : 0.06119\n",
      "\n",
      "The periocular-to-periocular EER of pubfig start\n",
      "\n"
     ]
    },
    {
     "name": "stderr",
     "output_type": "stream",
     "text": [
      "25it [00:03,  6.39it/s]\n"
     ]
    },
    {
     "name": "stdout",
     "output_type": "stream",
     "text": [
      "\n",
      "The periocular-to-periocular EER of pubfig : 0.05564\n",
      "\n",
      "The periocular-to-periocular EER of facescrub start\n",
      "\n"
     ]
    },
    {
     "name": "stderr",
     "output_type": "stream",
     "text": [
      "67it [00:08,  7.67it/s]\n"
     ]
    },
    {
     "name": "stdout",
     "output_type": "stream",
     "text": [
      "\n",
      "The periocular-to-periocular EER of facescrub : 0.02835\n",
      "\n",
      "The periocular-to-periocular EER of imdb_wiki start\n",
      "\n"
     ]
    },
    {
     "name": "stderr",
     "output_type": "stream",
     "text": [
      "267it [00:32,  8.28it/s]\n"
     ]
    },
    {
     "name": "stdout",
     "output_type": "stream",
     "text": [
      "\n",
      "The periocular-to-periocular EER of imdb_wiki : 0.06588\n",
      "\n",
      "The periocular-to-periocular EER of ar start\n",
      "\n"
     ]
    },
    {
     "name": "stderr",
     "output_type": "stream",
     "text": [
      "13it [00:04,  2.82it/s]\n"
     ]
    },
    {
     "name": "stdout",
     "output_type": "stream",
     "text": [
      "\n",
      "The periocular-to-periocular EER of ar : 0.07128\n",
      "\n",
      "The periocular-to-periocular EER of ytf start\n",
      "\n"
     ]
    },
    {
     "name": "stderr",
     "output_type": "stream",
     "text": [
      "29it [00:14,  1.94it/s]\n"
     ]
    },
    {
     "name": "stdout",
     "output_type": "stream",
     "text": [
      "\n",
      "The periocular-to-periocular EER of ytf : 0.15041\n",
      "\n",
      "The periocular-to-periocular EER dictionary : \n",
      "{'ethnic': 0.06119, 'pubfig': 0.05564, 'facescrub': 0.02835, 'imdb_wiki': 0.06588, 'ar': 0.07128, 'ytf': 0.15041}\n",
      "time elapsed : 0h 2m 49.35s\n"
     ]
    }
   ],
   "source": [
    "test_p2p_verification(args, model)"
   ]
  },
  {
   "cell_type": "code",
   "execution_count": 7,
   "id": "99d153eb",
   "metadata": {},
   "outputs": [
    {
     "name": "stdout",
     "output_type": "stream",
     "text": [
      "The face-to-face EER of ethnic start\n",
      "\n"
     ]
    },
    {
     "name": "stderr",
     "output_type": "stream",
     "text": [
      "42it [00:05,  7.67it/s]\n"
     ]
    },
    {
     "name": "stdout",
     "output_type": "stream",
     "text": [
      "\n",
      "The face-to-face EER of ethnic : 0.05321\n",
      "\n",
      "The face-to-face EER of pubfig start\n",
      "\n"
     ]
    },
    {
     "name": "stderr",
     "output_type": "stream",
     "text": [
      "25it [00:03,  7.07it/s]\n"
     ]
    },
    {
     "name": "stdout",
     "output_type": "stream",
     "text": [
      "\n",
      "The face-to-face EER of pubfig : 0.04654\n",
      "\n",
      "The face-to-face EER of facescrub start\n",
      "\n"
     ]
    },
    {
     "name": "stderr",
     "output_type": "stream",
     "text": [
      "67it [00:08,  7.98it/s]\n"
     ]
    },
    {
     "name": "stdout",
     "output_type": "stream",
     "text": [
      "\n",
      "The face-to-face EER of facescrub : 0.02428\n",
      "\n",
      "The face-to-face EER of imdb_wiki start\n",
      "\n"
     ]
    },
    {
     "name": "stderr",
     "output_type": "stream",
     "text": [
      "267it [00:31,  8.34it/s]\n"
     ]
    },
    {
     "name": "stdout",
     "output_type": "stream",
     "text": [
      "\n",
      "The face-to-face EER of imdb_wiki : 0.05748\n",
      "\n",
      "The face-to-face EER of ar start\n",
      "\n"
     ]
    },
    {
     "name": "stderr",
     "output_type": "stream",
     "text": [
      "13it [00:04,  3.01it/s]\n"
     ]
    },
    {
     "name": "stdout",
     "output_type": "stream",
     "text": [
      "\n",
      "The face-to-face EER of ar : 0.07672\n",
      "\n",
      "The face-to-face EER of ytf start\n",
      "\n"
     ]
    },
    {
     "name": "stderr",
     "output_type": "stream",
     "text": [
      "29it [00:03,  7.37it/s]\n"
     ]
    },
    {
     "name": "stdout",
     "output_type": "stream",
     "text": [
      "\n",
      "The face-to-face EER of ytf : 0.13719\n",
      "\n",
      "The face-to-face EER dictionary : \n",
      "{'ethnic': 0.05321, 'pubfig': 0.04654, 'facescrub': 0.02428, 'imdb_wiki': 0.05748, 'ar': 0.07672, 'ytf': 0.13719}\n",
      "time elapsed : 0h 2m 10.66s\n"
     ]
    }
   ],
   "source": [
    "test_f2f_verification(args, model)"
   ]
  },
  {
   "cell_type": "code",
   "execution_count": null,
   "id": "0aed419d",
   "metadata": {},
   "outputs": [],
   "source": []
  }
 ],
 "metadata": {
  "kernelspec": {
   "display_name": "Python 3 (ipykernel)",
   "language": "python",
   "name": "python3"
  },
  "language_info": {
   "codemirror_mode": {
    "name": "ipython",
    "version": 3
   },
   "file_extension": ".py",
   "mimetype": "text/x-python",
   "name": "python",
   "nbconvert_exporter": "python",
   "pygments_lexer": "ipython3",
   "version": "3.9.12"
  }
 },
 "nbformat": 4,
 "nbformat_minor": 5
}
