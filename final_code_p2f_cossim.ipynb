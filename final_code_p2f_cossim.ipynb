{
 "cells": [
  {
   "cell_type": "code",
   "execution_count": 1,
   "id": "7de690aa",
   "metadata": {},
   "outputs": [
    {
     "data": {
      "text/plain": [
       "'Z:\\\\jupyter notebook files\\\\EE Capstone\\\\play_ckd'"
      ]
     },
     "execution_count": 1,
     "metadata": {},
     "output_type": "execute_result"
    }
   ],
   "source": [
    "import os\n",
    "os.getcwd()"
   ]
  },
  {
   "cell_type": "code",
   "execution_count": 2,
   "id": "6536b948",
   "metadata": {},
   "outputs": [],
   "source": [
    "import torch\n",
    "import importlib\n",
    "import torch.nn as nn\n",
    "import numpy as np\n",
    "\n",
    "from tabulate import tabulate\n",
    "\n",
    "from get_args_parser import get_args_parser\n",
    "\n",
    "from dataset import get_identification_dataloaders, get_verification_dataloaders\n",
    "\n",
    "from main_test import test_p2f_identification_cos_sim, test_p2f_verification_cos_sim\n",
    "\n",
    "from models.load_trained_models import load_trained_ckd\n",
    "from misc.utils_torch import set_seed\n",
    "from misc.utils_python import get_paths, import_yaml_config, generate_pairs"
   ]
  },
  {
   "cell_type": "code",
   "execution_count": 3,
   "id": "018d8190",
   "metadata": {},
   "outputs": [
    {
     "data": {
      "text/plain": [
       "True"
      ]
     },
     "execution_count": 3,
     "metadata": {},
     "output_type": "execute_result"
    }
   ],
   "source": [
    "torch.cuda.is_available()"
   ]
  },
  {
   "cell_type": "code",
   "execution_count": 4,
   "id": "ce4318a0",
   "metadata": {},
   "outputs": [
    {
     "name": "stdout",
     "output_type": "stream",
     "text": [
      "arguments       values\n",
      "--------------  --------------------------------------------------------------------------------------------------------------------------\n",
      "config_name     ckd_config01\n",
      "gpu_num         1\n",
      "num_workers     8\n",
      "tb_log          False\n",
      "seed\n",
      "data_root_path  Z:\\image_datasets\n",
      "save_root_path  ./saved_models\n",
      "model_name      CKD\n",
      "backbone_name   resnet18\n",
      "train_config    {'num_epochs': 90, 'batch_size': 512, 'lr': 0.1, 'milestones': [30, 60, 80], 'momentum': 0.9, 'weight_decay_rate': 0.0005}\n",
      "model_config    {'tau': 2.5}\n",
      "device          cuda\n",
      "save_dir_path   ./saved_models/ckd_config01\n",
      "log_dir_path    ./logs/result_log/ckd_config01\n",
      "tb_dir_path     ./logs/tb_log/ckd_config01/2022-08-24-18-07-51\n"
     ]
    }
   ],
   "source": [
    "parser = get_args_parser()\n",
    "args = parser.parse_args('')\n",
    "args = import_yaml_config(args)\n",
    "args.device = torch.device('cuda' if torch.cuda.is_available() else 'cpu')\n",
    "\n",
    "if args.seed != None:\n",
    "    set_seed(0)\n",
    "args = get_paths(args)\n",
    "\n",
    "print(tabulate(list(vars(args).items()), headers=['arguments', 'values']))"
   ]
  },
  {
   "cell_type": "code",
   "execution_count": 5,
   "id": "446d4dc6",
   "metadata": {},
   "outputs": [],
   "source": [
    "model_modules = importlib.import_module('models.{}'.format(args.model_name))\n",
    "\n",
    "args.num_classes = 1054\n",
    "\n",
    "model = model_modules.make_model(args)\n",
    "model = model.to(args.device)\n",
    "load_trained_ckd(model, f\"{args.save_dir_path}/model_best.pth\" )\n",
    "\n",
    "args.num_workers = 4"
   ]
  },
  {
   "cell_type": "code",
   "execution_count": 6,
   "id": "29bcbe58",
   "metadata": {},
   "outputs": [
    {
     "name": "stdout",
     "output_type": "stream",
     "text": [
      "The periocular-to-face CMC of ytf start\n",
      "\n"
     ]
    },
    {
     "name": "stderr",
     "output_type": "stream",
     "text": [
      "473it [01:04,  7.36it/s]\n",
      "119it [00:15,  7.69it/s]\n"
     ]
    },
    {
     "name": "stdout",
     "output_type": "stream",
     "text": [
      "0.74803 \n",
      "\n"
     ]
    },
    {
     "name": "stderr",
     "output_type": "stream",
     "text": [
      "119it [00:14,  8.10it/s]\n",
      "473it [00:57,  8.28it/s]\n"
     ]
    },
    {
     "name": "stdout",
     "output_type": "stream",
     "text": [
      "0.55196 \n",
      "\n",
      "\n",
      "The periocular-to-face CMC of ytf :\n",
      "[0.649995 0.6892   0.713625 0.730935 0.7438  ]\n",
      "\n",
      "The periocular-to-face CMC of ethnic start\n",
      "\n"
     ]
    },
    {
     "name": "stderr",
     "output_type": "stream",
     "text": [
      "52it [00:07,  7.38it/s]\n",
      "756it [01:31,  8.28it/s]\n"
     ]
    },
    {
     "name": "stdout",
     "output_type": "stream",
     "text": [
      "0.93596 \n",
      "\n"
     ]
    },
    {
     "name": "stderr",
     "output_type": "stream",
     "text": [
      "756it [01:29,  8.45it/s]\n",
      "52it [00:06,  7.68it/s]\n"
     ]
    },
    {
     "name": "stdout",
     "output_type": "stream",
     "text": [
      "0.97021 \n",
      "\n",
      "\n",
      "The periocular-to-face CMC of ethnic :\n",
      "[0.953085 0.96695  0.97178  0.97511  0.97784 ]\n",
      "\n",
      "The periocular-to-face CMC of pubfig start\n",
      "\n"
     ]
    },
    {
     "name": "stderr",
     "output_type": "stream",
     "text": [
      "289it [00:34,  8.27it/s]\n",
      "240it [00:29,  8.05it/s]\n"
     ]
    },
    {
     "name": "stdout",
     "output_type": "stream",
     "text": [
      "0.99987 \n",
      "\n"
     ]
    },
    {
     "name": "stderr",
     "output_type": "stream",
     "text": [
      "289it [00:34,  8.33it/s]\n",
      "192it [00:24,  7.86it/s]\n"
     ]
    },
    {
     "name": "stdout",
     "output_type": "stream",
     "text": [
      "0.98794 \n",
      "\n"
     ]
    },
    {
     "name": "stderr",
     "output_type": "stream",
     "text": [
      "289it [00:34,  8.35it/s]\n",
      "191it [00:23,  8.00it/s]\n"
     ]
    },
    {
     "name": "stdout",
     "output_type": "stream",
     "text": [
      "0.98754 \n",
      "\n"
     ]
    },
    {
     "name": "stderr",
     "output_type": "stream",
     "text": [
      "240it [00:28,  8.32it/s]\n",
      "289it [00:34,  8.33it/s]\n"
     ]
    },
    {
     "name": "stdout",
     "output_type": "stream",
     "text": [
      "0.9769 \n",
      "\n"
     ]
    },
    {
     "name": "stderr",
     "output_type": "stream",
     "text": [
      "240it [00:29,  8.26it/s]\n",
      "192it [00:23,  8.23it/s]\n"
     ]
    },
    {
     "name": "stdout",
     "output_type": "stream",
     "text": [
      "0.98778 \n",
      "\n"
     ]
    },
    {
     "name": "stderr",
     "output_type": "stream",
     "text": [
      "240it [00:28,  8.31it/s]\n",
      "191it [00:23,  8.23it/s]\n"
     ]
    },
    {
     "name": "stdout",
     "output_type": "stream",
     "text": [
      "0.98738 \n",
      "\n"
     ]
    },
    {
     "name": "stderr",
     "output_type": "stream",
     "text": [
      "192it [00:23,  8.27it/s]\n",
      "289it [00:34,  8.34it/s]\n"
     ]
    },
    {
     "name": "stdout",
     "output_type": "stream",
     "text": [
      "0.94057 \n",
      "\n"
     ]
    },
    {
     "name": "stderr",
     "output_type": "stream",
     "text": [
      "192it [00:23,  8.27it/s]\n",
      "240it [00:28,  8.30it/s]\n"
     ]
    },
    {
     "name": "stdout",
     "output_type": "stream",
     "text": [
      "0.96003 \n",
      "\n"
     ]
    },
    {
     "name": "stderr",
     "output_type": "stream",
     "text": [
      "192it [00:23,  8.30it/s]\n",
      "191it [00:23,  8.21it/s]\n"
     ]
    },
    {
     "name": "stdout",
     "output_type": "stream",
     "text": [
      "0.98213 \n",
      "\n"
     ]
    },
    {
     "name": "stderr",
     "output_type": "stream",
     "text": [
      "191it [00:23,  8.29it/s]\n",
      "289it [00:34,  8.34it/s]\n"
     ]
    },
    {
     "name": "stdout",
     "output_type": "stream",
     "text": [
      "0.94133 \n",
      "\n"
     ]
    },
    {
     "name": "stderr",
     "output_type": "stream",
     "text": [
      "191it [00:23,  8.26it/s]\n",
      "240it [00:28,  8.28it/s]\n"
     ]
    },
    {
     "name": "stdout",
     "output_type": "stream",
     "text": [
      "0.95924 \n",
      "\n"
     ]
    },
    {
     "name": "stderr",
     "output_type": "stream",
     "text": [
      "191it [00:23,  8.26it/s]\n",
      "192it [00:23,  8.25it/s]\n"
     ]
    },
    {
     "name": "stdout",
     "output_type": "stream",
     "text": [
      "0.98403 \n",
      "\n",
      "\n",
      "The periocular-to-face CMC of pubfig :\n",
      "[0.97456167 0.98228417 0.98575    0.987655   0.9890325 ]\n",
      "\n",
      "The periocular-to-face CMC of facescrub start\n",
      "\n"
     ]
    },
    {
     "name": "stderr",
     "output_type": "stream",
     "text": [
      "971it [01:55,  8.40it/s]\n",
      "673it [01:23,  8.05it/s]\n"
     ]
    },
    {
     "name": "stdout",
     "output_type": "stream",
     "text": [
      "0.98401 \n",
      "\n"
     ]
    },
    {
     "name": "stderr",
     "output_type": "stream",
     "text": [
      "971it [01:55,  8.44it/s]\n",
      "853it [01:45,  8.06it/s]\n"
     ]
    },
    {
     "name": "stdout",
     "output_type": "stream",
     "text": [
      "0.9738 \n",
      "\n"
     ]
    },
    {
     "name": "stderr",
     "output_type": "stream",
     "text": [
      "673it [01:20,  8.39it/s]\n",
      "971it [01:57,  8.29it/s]\n"
     ]
    },
    {
     "name": "stdout",
     "output_type": "stream",
     "text": [
      "0.96443 \n",
      "\n"
     ]
    },
    {
     "name": "stderr",
     "output_type": "stream",
     "text": [
      "673it [01:20,  8.40it/s]\n",
      "853it [01:42,  8.29it/s]\n"
     ]
    },
    {
     "name": "stdout",
     "output_type": "stream",
     "text": [
      "0.97186 \n",
      "\n"
     ]
    },
    {
     "name": "stderr",
     "output_type": "stream",
     "text": [
      "853it [01:41,  8.42it/s]\n",
      "971it [01:57,  8.25it/s]\n"
     ]
    },
    {
     "name": "stdout",
     "output_type": "stream",
     "text": [
      "0.96601 \n",
      "\n"
     ]
    },
    {
     "name": "stderr",
     "output_type": "stream",
     "text": [
      "853it [01:41,  8.42it/s]\n",
      "673it [01:21,  8.24it/s]\n"
     ]
    },
    {
     "name": "stdout",
     "output_type": "stream",
     "text": [
      "0.98341 \n",
      "\n",
      "\n",
      "The periocular-to-face CMC of facescrub :\n",
      "[0.97392    0.98022167 0.98251833 0.98396833 0.98495667]\n",
      "\n",
      "The periocular-to-face CMC of imdb_wiki start\n",
      "\n"
     ]
    },
    {
     "name": "stderr",
     "output_type": "stream",
     "text": [
      "1258it [02:29,  8.41it/s]\n",
      "552it [01:09,  7.95it/s]\n"
     ]
    },
    {
     "name": "stdout",
     "output_type": "stream",
     "text": [
      "0.85735 \n",
      "\n"
     ]
    },
    {
     "name": "stderr",
     "output_type": "stream",
     "text": [
      "1258it [02:29,  8.44it/s]\n",
      "477it [01:00,  7.95it/s]\n"
     ]
    },
    {
     "name": "stdout",
     "output_type": "stream",
     "text": [
      "0.89411 \n",
      "\n"
     ]
    },
    {
     "name": "stderr",
     "output_type": "stream",
     "text": [
      "1258it [02:28,  8.45it/s]\n",
      "509it [01:03,  7.95it/s]\n"
     ]
    },
    {
     "name": "stdout",
     "output_type": "stream",
     "text": [
      "0.8951 \n",
      "\n"
     ]
    },
    {
     "name": "stderr",
     "output_type": "stream",
     "text": [
      "552it [01:05,  8.38it/s]\n",
      "1258it [02:31,  8.32it/s]\n"
     ]
    },
    {
     "name": "stdout",
     "output_type": "stream",
     "text": [
      "0.76621 \n",
      "\n"
     ]
    },
    {
     "name": "stderr",
     "output_type": "stream",
     "text": [
      "552it [01:05,  8.38it/s]\n",
      "477it [00:57,  8.27it/s]\n"
     ]
    },
    {
     "name": "stdout",
     "output_type": "stream",
     "text": [
      "0.87208 \n",
      "\n"
     ]
    },
    {
     "name": "stderr",
     "output_type": "stream",
     "text": [
      "552it [01:05,  8.39it/s]\n",
      "509it [01:02,  8.15it/s]\n"
     ]
    },
    {
     "name": "stdout",
     "output_type": "stream",
     "text": [
      "0.86757 \n",
      "\n"
     ]
    },
    {
     "name": "stderr",
     "output_type": "stream",
     "text": [
      "477it [00:56,  8.38it/s]\n",
      "1258it [02:30,  8.37it/s]\n"
     ]
    },
    {
     "name": "stdout",
     "output_type": "stream",
     "text": [
      "0.74369 \n",
      "\n"
     ]
    },
    {
     "name": "stderr",
     "output_type": "stream",
     "text": [
      "477it [00:56,  8.39it/s]\n",
      "552it [01:06,  8.32it/s]\n"
     ]
    },
    {
     "name": "stdout",
     "output_type": "stream",
     "text": [
      "0.81272 \n",
      "\n"
     ]
    },
    {
     "name": "stderr",
     "output_type": "stream",
     "text": [
      "477it [00:56,  8.39it/s]\n",
      "509it [01:01,  8.33it/s]\n"
     ]
    },
    {
     "name": "stdout",
     "output_type": "stream",
     "text": [
      "0.86272 \n",
      "\n"
     ]
    },
    {
     "name": "stderr",
     "output_type": "stream",
     "text": [
      "509it [01:00,  8.40it/s]\n",
      "1258it [02:30,  8.35it/s]\n"
     ]
    },
    {
     "name": "stdout",
     "output_type": "stream",
     "text": [
      "0.75778 \n",
      "\n"
     ]
    },
    {
     "name": "stderr",
     "output_type": "stream",
     "text": [
      "509it [01:00,  8.39it/s]\n",
      "552it [01:06,  8.26it/s]\n"
     ]
    },
    {
     "name": "stdout",
     "output_type": "stream",
     "text": [
      "0.81685 \n",
      "\n"
     ]
    },
    {
     "name": "stderr",
     "output_type": "stream",
     "text": [
      "509it [01:00,  8.39it/s]\n",
      "477it [00:57,  8.28it/s]\n"
     ]
    },
    {
     "name": "stdout",
     "output_type": "stream",
     "text": [
      "0.86835 \n",
      "\n",
      "\n",
      "The periocular-to-face CMC of imdb_wiki :\n",
      "[0.83454417 0.8741175  0.89038083 0.9001375  0.9071675 ]\n",
      "\n",
      "The periocular-to-face CMC of ar start\n",
      "\n"
     ]
    },
    {
     "name": "stderr",
     "output_type": "stream",
     "text": [
      "22it [00:03,  6.24it/s]\n",
      "88it [00:11,  7.63it/s]\n"
     ]
    },
    {
     "name": "stdout",
     "output_type": "stream",
     "text": [
      "0.515 \n",
      "\n"
     ]
    },
    {
     "name": "stderr",
     "output_type": "stream",
     "text": [
      "22it [00:03,  6.94it/s]\n",
      "44it [00:06,  7.11it/s]\n"
     ]
    },
    {
     "name": "stdout",
     "output_type": "stream",
     "text": [
      "0.95643 \n",
      "\n"
     ]
    },
    {
     "name": "stderr",
     "output_type": "stream",
     "text": [
      "22it [00:03,  6.82it/s]\n",
      "110it [00:13,  7.96it/s]\n"
     ]
    },
    {
     "name": "stdout",
     "output_type": "stream",
     "text": [
      "0.91857 \n",
      "\n"
     ]
    },
    {
     "name": "stderr",
     "output_type": "stream",
     "text": [
      "22it [00:03,  6.85it/s]\n",
      "19it [00:05,  3.68it/s]\n"
     ]
    },
    {
     "name": "stdout",
     "output_type": "stream",
     "text": [
      "0.97833 \n",
      "\n"
     ]
    },
    {
     "name": "stderr",
     "output_type": "stream",
     "text": [
      "88it [00:10,  8.08it/s]\n",
      "22it [00:03,  7.01it/s]\n"
     ]
    },
    {
     "name": "stdout",
     "output_type": "stream",
     "text": [
      "0.93429 \n",
      "\n"
     ]
    },
    {
     "name": "stderr",
     "output_type": "stream",
     "text": [
      "88it [00:10,  8.01it/s]\n",
      "44it [00:05,  7.49it/s]\n"
     ]
    },
    {
     "name": "stdout",
     "output_type": "stream",
     "text": [
      "0.99714 \n",
      "\n"
     ]
    },
    {
     "name": "stderr",
     "output_type": "stream",
     "text": [
      "88it [00:10,  8.04it/s]\n",
      "110it [00:13,  8.12it/s]\n"
     ]
    },
    {
     "name": "stdout",
     "output_type": "stream",
     "text": [
      "0.96114 \n",
      "\n"
     ]
    },
    {
     "name": "stderr",
     "output_type": "stream",
     "text": [
      "88it [00:10,  8.08it/s]\n",
      "19it [00:04,  3.85it/s]\n"
     ]
    },
    {
     "name": "stdout",
     "output_type": "stream",
     "text": [
      "0.95833 \n",
      "\n"
     ]
    },
    {
     "name": "stderr",
     "output_type": "stream",
     "text": [
      "44it [00:05,  7.73it/s]\n",
      "22it [00:03,  6.78it/s]\n"
     ]
    },
    {
     "name": "stdout",
     "output_type": "stream",
     "text": [
      "0.95714 \n",
      "\n"
     ]
    },
    {
     "name": "stderr",
     "output_type": "stream",
     "text": [
      "44it [00:05,  7.59it/s]\n",
      "88it [00:10,  8.13it/s]\n"
     ]
    },
    {
     "name": "stdout",
     "output_type": "stream",
     "text": [
      "0.63429 \n",
      "\n"
     ]
    },
    {
     "name": "stderr",
     "output_type": "stream",
     "text": [
      "44it [00:05,  7.68it/s]\n",
      "110it [00:13,  8.14it/s]\n"
     ]
    },
    {
     "name": "stdout",
     "output_type": "stream",
     "text": [
      "0.97943 \n",
      "\n"
     ]
    },
    {
     "name": "stderr",
     "output_type": "stream",
     "text": [
      "44it [00:05,  7.53it/s]\n",
      "19it [00:04,  3.93it/s]\n"
     ]
    },
    {
     "name": "stdout",
     "output_type": "stream",
     "text": [
      "0.985 \n",
      "\n"
     ]
    },
    {
     "name": "stderr",
     "output_type": "stream",
     "text": [
      "110it [00:13,  8.14it/s]\n",
      "22it [00:03,  6.75it/s]\n"
     ]
    },
    {
     "name": "stdout",
     "output_type": "stream",
     "text": [
      "0.94714 \n",
      "\n"
     ]
    },
    {
     "name": "stderr",
     "output_type": "stream",
     "text": [
      "110it [00:13,  8.24it/s]\n",
      "88it [00:11,  7.95it/s]\n"
     ]
    },
    {
     "name": "stdout",
     "output_type": "stream",
     "text": [
      "0.61679 \n",
      "\n"
     ]
    },
    {
     "name": "stderr",
     "output_type": "stream",
     "text": [
      "110it [00:13,  8.16it/s]\n",
      "44it [00:05,  7.62it/s]\n"
     ]
    },
    {
     "name": "stdout",
     "output_type": "stream",
     "text": [
      "0.99857 \n",
      "\n"
     ]
    },
    {
     "name": "stderr",
     "output_type": "stream",
     "text": [
      "110it [00:13,  8.11it/s]\n",
      "19it [00:04,  3.83it/s]\n"
     ]
    },
    {
     "name": "stdout",
     "output_type": "stream",
     "text": [
      "0.98833 \n",
      "\n"
     ]
    },
    {
     "name": "stderr",
     "output_type": "stream",
     "text": [
      "19it [00:04,  3.89it/s]\n",
      "22it [00:03,  6.69it/s]\n"
     ]
    },
    {
     "name": "stdout",
     "output_type": "stream",
     "text": [
      "0.91 \n",
      "\n"
     ]
    },
    {
     "name": "stderr",
     "output_type": "stream",
     "text": [
      "19it [00:04,  3.93it/s]\n",
      "88it [00:10,  8.05it/s]\n"
     ]
    },
    {
     "name": "stdout",
     "output_type": "stream",
     "text": [
      "0.50929 \n",
      "\n"
     ]
    },
    {
     "name": "stderr",
     "output_type": "stream",
     "text": [
      "19it [00:04,  3.85it/s]\n",
      "44it [00:05,  7.54it/s]\n"
     ]
    },
    {
     "name": "stdout",
     "output_type": "stream",
     "text": [
      "0.90429 \n",
      "\n"
     ]
    },
    {
     "name": "stderr",
     "output_type": "stream",
     "text": [
      "19it [00:04,  3.88it/s]\n",
      "110it [00:13,  8.17it/s]"
     ]
    },
    {
     "name": "stdout",
     "output_type": "stream",
     "text": [
      "0.87857 \n",
      "\n",
      "\n",
      "The periocular-to-face CMC of ar :\n",
      "[0.8764035 0.8952935 0.9067785 0.9145425 0.9210985]\n",
      "\n",
      "The periocular-to-face CMC dictionary : \n",
      "{'ytf': array([0.649995, 0.6892  , 0.713625, 0.730935, 0.7438  ]), 'ethnic': array([0.953085, 0.96695 , 0.97178 , 0.97511 , 0.97784 ]), 'pubfig': array([0.97456167, 0.98228417, 0.98575   , 0.987655  , 0.9890325 ]), 'facescrub': array([0.97392   , 0.98022167, 0.98251833, 0.98396833, 0.98495667]), 'imdb_wiki': array([0.83454417, 0.8741175 , 0.89038083, 0.9001375 , 0.9071675 ]), 'ar': array([0.8764035, 0.8952935, 0.9067785, 0.9145425, 0.9210985])}\n"
     ]
    },
    {
     "name": "stderr",
     "output_type": "stream",
     "text": [
      "\n"
     ]
    }
   ],
   "source": [
    "test_p2f_identification_cos_sim(args, model)"
   ]
  },
  {
   "cell_type": "code",
   "execution_count": 6,
   "id": "9a0c7ed1",
   "metadata": {},
   "outputs": [
    {
     "name": "stdout",
     "output_type": "stream",
     "text": [
      "The periocular-to-face EER of ytf start\n",
      "\n"
     ]
    },
    {
     "name": "stderr",
     "output_type": "stream",
     "text": [
      "29it [00:15,  1.85it/s]\n"
     ]
    },
    {
     "name": "stdout",
     "output_type": "stream",
     "text": [
      "\n",
      "The periocular-to-face EER of ytf : 0.14339\n",
      "\n",
      "The periocular-to-face EER dictionary : \n",
      "{'ytf': 0.14339}\n",
      "The periocular-to-face EER of ethnic start\n",
      "\n"
     ]
    },
    {
     "name": "stderr",
     "output_type": "stream",
     "text": [
      "42it [00:05,  7.24it/s]\n"
     ]
    },
    {
     "name": "stdout",
     "output_type": "stream",
     "text": [
      "\n",
      "The periocular-to-face EER of ethnic : 0.05718\n",
      "\n",
      "The periocular-to-face EER dictionary : \n",
      "{'ytf': 0.14339, 'ethnic': 0.05718}\n",
      "The periocular-to-face EER of pubfig start\n",
      "\n"
     ]
    },
    {
     "name": "stderr",
     "output_type": "stream",
     "text": [
      "25it [00:03,  6.43it/s]\n"
     ]
    },
    {
     "name": "stdout",
     "output_type": "stream",
     "text": [
      "\n",
      "The periocular-to-face EER of pubfig : 0.05094\n",
      "\n",
      "The periocular-to-face EER dictionary : \n",
      "{'ytf': 0.14339, 'ethnic': 0.05718, 'pubfig': 0.05094}\n",
      "The periocular-to-face EER of facescrub start\n",
      "\n"
     ]
    },
    {
     "name": "stderr",
     "output_type": "stream",
     "text": [
      "67it [00:08,  7.53it/s]\n"
     ]
    },
    {
     "name": "stdout",
     "output_type": "stream",
     "text": [
      "\n",
      "The periocular-to-face EER of facescrub : 0.02714\n",
      "\n",
      "The periocular-to-face EER dictionary : \n",
      "{'ytf': 0.14339, 'ethnic': 0.05718, 'pubfig': 0.05094, 'facescrub': 0.02714}\n",
      "The periocular-to-face EER of imdb_wiki start\n",
      "\n"
     ]
    },
    {
     "name": "stderr",
     "output_type": "stream",
     "text": [
      "267it [00:32,  8.28it/s]\n"
     ]
    },
    {
     "name": "stdout",
     "output_type": "stream",
     "text": [
      "\n",
      "The periocular-to-face EER of imdb_wiki : 0.06062\n",
      "\n",
      "The periocular-to-face EER dictionary : \n",
      "{'ytf': 0.14339, 'ethnic': 0.05718, 'pubfig': 0.05094, 'facescrub': 0.02714, 'imdb_wiki': 0.06062}\n",
      "The periocular-to-face EER of ar start\n",
      "\n"
     ]
    },
    {
     "name": "stderr",
     "output_type": "stream",
     "text": [
      "13it [00:04,  2.99it/s]"
     ]
    },
    {
     "name": "stdout",
     "output_type": "stream",
     "text": [
      "\n",
      "The periocular-to-face EER of ar : 0.08865\n",
      "\n",
      "The periocular-to-face EER dictionary : \n",
      "{'ytf': 0.14339, 'ethnic': 0.05718, 'pubfig': 0.05094, 'facescrub': 0.02714, 'imdb_wiki': 0.06062, 'ar': 0.08865}\n"
     ]
    },
    {
     "name": "stderr",
     "output_type": "stream",
     "text": [
      "\n"
     ]
    }
   ],
   "source": [
    "test_p2f_verification_cos_sim(args, model)"
   ]
  },
  {
   "cell_type": "code",
   "execution_count": null,
   "id": "03db590b",
   "metadata": {},
   "outputs": [],
   "source": []
  }
 ],
 "metadata": {
  "kernelspec": {
   "display_name": "Python 3 (ipykernel)",
   "language": "python",
   "name": "python3"
  },
  "language_info": {
   "codemirror_mode": {
    "name": "ipython",
    "version": 3
   },
   "file_extension": ".py",
   "mimetype": "text/x-python",
   "name": "python",
   "nbconvert_exporter": "python",
   "pygments_lexer": "ipython3",
   "version": "3.9.12"
  }
 },
 "nbformat": 4,
 "nbformat_minor": 5
}
