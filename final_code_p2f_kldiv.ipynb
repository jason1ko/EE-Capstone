{
 "cells": [
  {
   "cell_type": "code",
   "execution_count": 1,
   "id": "f5530753",
   "metadata": {},
   "outputs": [
    {
     "data": {
      "text/plain": [
       "'Z:\\\\jupyter notebook files\\\\EE Capstone\\\\play_ckd'"
      ]
     },
     "execution_count": 1,
     "metadata": {},
     "output_type": "execute_result"
    }
   ],
   "source": [
    "import os\n",
    "os.getcwd()"
   ]
  },
  {
   "cell_type": "code",
   "execution_count": 2,
   "id": "ae0733e6",
   "metadata": {},
   "outputs": [],
   "source": [
    "import torch\n",
    "import importlib\n",
    "import torch.nn as nn\n",
    "import numpy as np\n",
    "\n",
    "from tabulate import tabulate\n",
    "\n",
    "from get_args_parser import get_args_parser\n",
    "\n",
    "from dataset import get_identification_dataloaders, get_verification_dataloaders\n",
    "\n",
    "from main_test import test_p2f_identification_kl_div, test_p2f_verification_kl_div\n",
    "\n",
    "from models.load_trained_models import load_trained_ckd\n",
    "from misc.utils_torch import set_seed\n",
    "from misc.utils_python import get_paths, import_yaml_config, generate_pairs"
   ]
  },
  {
   "cell_type": "code",
   "execution_count": 3,
   "id": "5a5bfcec",
   "metadata": {},
   "outputs": [
    {
     "data": {
      "text/plain": [
       "True"
      ]
     },
     "execution_count": 3,
     "metadata": {},
     "output_type": "execute_result"
    }
   ],
   "source": [
    "torch.cuda.is_available()"
   ]
  },
  {
   "cell_type": "code",
   "execution_count": 4,
   "id": "225c6d40",
   "metadata": {},
   "outputs": [
    {
     "name": "stdout",
     "output_type": "stream",
     "text": [
      "arguments       values\n",
      "--------------  --------------------------------------------------------------------------------------------------------------------------\n",
      "config_name     ckd_config01\n",
      "gpu_num         1\n",
      "num_workers     8\n",
      "tb_log          False\n",
      "seed\n",
      "data_root_path  Z:\\image_datasets\n",
      "save_root_path  ./saved_models\n",
      "model_name      CKD\n",
      "backbone_name   resnet18\n",
      "train_config    {'num_epochs': 90, 'batch_size': 512, 'lr': 0.1, 'milestones': [30, 60, 80], 'momentum': 0.9, 'weight_decay_rate': 0.0005}\n",
      "model_config    {'tau': 2.5}\n",
      "device          cuda\n",
      "save_dir_path   ./saved_models/ckd_config01\n",
      "log_dir_path    ./logs/result_log/ckd_config01\n",
      "tb_dir_path     ./logs/tb_log/ckd_config01/2022-08-29-10-33-39\n"
     ]
    }
   ],
   "source": [
    "parser = get_args_parser()\n",
    "args = parser.parse_args('')\n",
    "args = import_yaml_config(args)\n",
    "args.device = torch.device('cuda' if torch.cuda.is_available() else 'cpu')\n",
    "\n",
    "if args.seed != None:\n",
    "    set_seed(0)\n",
    "args = get_paths(args)\n",
    "\n",
    "print(tabulate(list(vars(args).items()), headers=['arguments', 'values']))"
   ]
  },
  {
   "cell_type": "code",
   "execution_count": 5,
   "id": "ae643997",
   "metadata": {},
   "outputs": [],
   "source": [
    "model_modules = importlib.import_module('models.{}'.format(args.model_name))\n",
    "\n",
    "args.num_classes = 1054\n",
    "\n",
    "model = model_modules.make_model(args)\n",
    "model = model.to(args.device)\n",
    "load_trained_ckd(model, f\"{args.save_dir_path}/model_best.pth\" )\n",
    "\n",
    "args.num_workers = 4"
   ]
  },
  {
   "cell_type": "code",
   "execution_count": 6,
   "id": "5abbf204",
   "metadata": {},
   "outputs": [
    {
     "name": "stdout",
     "output_type": "stream",
     "text": [
      "The periocular-to-face CMC of ethnic start\n",
      "\n"
     ]
    },
    {
     "name": "stderr",
     "output_type": "stream",
     "text": [
      "206it [00:12, 16.93it/s]\n",
      "3022it [02:16, 22.19it/s]\n"
     ]
    },
    {
     "name": "stdout",
     "output_type": "stream",
     "text": [
      "0.93596 \n",
      "\n"
     ]
    },
    {
     "name": "stderr",
     "output_type": "stream",
     "text": [
      "3022it [02:11, 22.93it/s]\n",
      "206it [00:17, 11.58it/s]\n"
     ]
    },
    {
     "name": "stdout",
     "output_type": "stream",
     "text": [
      "0.97021 \n",
      "\n",
      "\n",
      "The periocular-to-face CMC of ethnic :\n",
      "[0.953085 0.96695  0.97178  0.97511  0.97784 ]\n",
      "It took 5m 37s\n",
      "\n",
      "The periocular-to-face CMC of ar start\n",
      "\n"
     ]
    },
    {
     "name": "stderr",
     "output_type": "stream",
     "text": [
      "88it [00:04, 19.02it/s]\n",
      "350it [00:16, 21.62it/s]\n"
     ]
    },
    {
     "name": "stdout",
     "output_type": "stream",
     "text": [
      "0.515 \n",
      "\n"
     ]
    },
    {
     "name": "stderr",
     "output_type": "stream",
     "text": [
      "88it [00:04, 20.06it/s]\n",
      "175it [00:08, 20.58it/s]\n"
     ]
    },
    {
     "name": "stdout",
     "output_type": "stream",
     "text": [
      "0.95643 \n",
      "\n"
     ]
    },
    {
     "name": "stderr",
     "output_type": "stream",
     "text": [
      "88it [00:04, 19.64it/s]\n",
      "438it [00:20, 21.80it/s]\n"
     ]
    },
    {
     "name": "stdout",
     "output_type": "stream",
     "text": [
      "0.91857 \n",
      "\n"
     ]
    },
    {
     "name": "stderr",
     "output_type": "stream",
     "text": [
      "88it [00:04, 19.39it/s]\n",
      "75it [00:06, 12.38it/s]\n"
     ]
    },
    {
     "name": "stdout",
     "output_type": "stream",
     "text": [
      "0.97833 \n",
      "\n"
     ]
    },
    {
     "name": "stderr",
     "output_type": "stream",
     "text": [
      "350it [00:16, 21.79it/s]\n",
      "88it [00:04, 19.21it/s]\n"
     ]
    },
    {
     "name": "stdout",
     "output_type": "stream",
     "text": [
      "0.93429 \n",
      "\n"
     ]
    },
    {
     "name": "stderr",
     "output_type": "stream",
     "text": [
      "350it [00:15, 21.96it/s]\n",
      "175it [00:08, 20.18it/s]\n"
     ]
    },
    {
     "name": "stdout",
     "output_type": "stream",
     "text": [
      "0.99714 \n",
      "\n"
     ]
    },
    {
     "name": "stderr",
     "output_type": "stream",
     "text": [
      "350it [00:15, 22.18it/s]\n",
      "438it [00:20, 21.13it/s]\n"
     ]
    },
    {
     "name": "stdout",
     "output_type": "stream",
     "text": [
      "0.96114 \n",
      "\n"
     ]
    },
    {
     "name": "stderr",
     "output_type": "stream",
     "text": [
      "350it [00:16, 21.24it/s]\n",
      "75it [00:06, 11.87it/s]\n"
     ]
    },
    {
     "name": "stdout",
     "output_type": "stream",
     "text": [
      "0.95833 \n",
      "\n"
     ]
    },
    {
     "name": "stderr",
     "output_type": "stream",
     "text": [
      "175it [00:08, 21.24it/s]\n",
      "88it [00:04, 19.26it/s]\n"
     ]
    },
    {
     "name": "stdout",
     "output_type": "stream",
     "text": [
      "0.95714 \n",
      "\n"
     ]
    },
    {
     "name": "stderr",
     "output_type": "stream",
     "text": [
      "175it [00:08, 21.46it/s]\n",
      "350it [00:16, 21.59it/s]\n"
     ]
    },
    {
     "name": "stdout",
     "output_type": "stream",
     "text": [
      "0.63429 \n",
      "\n"
     ]
    },
    {
     "name": "stderr",
     "output_type": "stream",
     "text": [
      "175it [00:08, 20.59it/s]\n",
      "438it [00:20, 21.80it/s]\n"
     ]
    },
    {
     "name": "stdout",
     "output_type": "stream",
     "text": [
      "0.97943 \n",
      "\n"
     ]
    },
    {
     "name": "stderr",
     "output_type": "stream",
     "text": [
      "175it [00:08, 21.48it/s]\n",
      "75it [00:05, 12.59it/s]\n"
     ]
    },
    {
     "name": "stdout",
     "output_type": "stream",
     "text": [
      "0.985 \n",
      "\n"
     ]
    },
    {
     "name": "stderr",
     "output_type": "stream",
     "text": [
      "438it [00:19, 22.46it/s]\n",
      "88it [00:04, 19.44it/s]\n"
     ]
    },
    {
     "name": "stdout",
     "output_type": "stream",
     "text": [
      "0.94714 \n",
      "\n"
     ]
    },
    {
     "name": "stderr",
     "output_type": "stream",
     "text": [
      "438it [00:19, 22.10it/s]\n",
      "350it [00:16, 20.70it/s]\n"
     ]
    },
    {
     "name": "stdout",
     "output_type": "stream",
     "text": [
      "0.61679 \n",
      "\n"
     ]
    },
    {
     "name": "stderr",
     "output_type": "stream",
     "text": [
      "438it [00:19, 22.24it/s]\n",
      "175it [00:08, 20.22it/s]\n"
     ]
    },
    {
     "name": "stdout",
     "output_type": "stream",
     "text": [
      "0.99857 \n",
      "\n"
     ]
    },
    {
     "name": "stderr",
     "output_type": "stream",
     "text": [
      "438it [00:19, 22.11it/s]\n",
      "75it [00:06, 11.99it/s]\n"
     ]
    },
    {
     "name": "stdout",
     "output_type": "stream",
     "text": [
      "0.98833 \n",
      "\n"
     ]
    },
    {
     "name": "stderr",
     "output_type": "stream",
     "text": [
      "75it [00:06, 12.45it/s]\n",
      "88it [00:04, 19.13it/s]\n"
     ]
    },
    {
     "name": "stdout",
     "output_type": "stream",
     "text": [
      "0.91 \n",
      "\n"
     ]
    },
    {
     "name": "stderr",
     "output_type": "stream",
     "text": [
      "75it [00:05, 12.60it/s]\n",
      "350it [00:16, 21.63it/s]\n"
     ]
    },
    {
     "name": "stdout",
     "output_type": "stream",
     "text": [
      "0.50929 \n",
      "\n"
     ]
    },
    {
     "name": "stderr",
     "output_type": "stream",
     "text": [
      "75it [00:06, 12.40it/s]\n",
      "175it [00:08, 21.19it/s]\n"
     ]
    },
    {
     "name": "stdout",
     "output_type": "stream",
     "text": [
      "0.90429 \n",
      "\n"
     ]
    },
    {
     "name": "stderr",
     "output_type": "stream",
     "text": [
      "75it [00:05, 12.69it/s]\n",
      "438it [00:19, 22.04it/s]"
     ]
    },
    {
     "name": "stdout",
     "output_type": "stream",
     "text": [
      "0.87857 \n",
      "\n",
      "\n",
      "The periocular-to-face CMC of ar :\n",
      "[0.8764035 0.8952935 0.9067785 0.9145425 0.9210985]\n",
      "It took 12m 36s\n",
      "\n",
      "The periocular-to-face CMC dictionary : \n",
      "{'ethnic': array([0.953085, 0.96695 , 0.97178 , 0.97511 , 0.97784 ]), 'ar': array([0.8764035, 0.8952935, 0.9067785, 0.9145425, 0.9210985])}\n",
      "It took 0.0h 18.0m\n"
     ]
    },
    {
     "name": "stderr",
     "output_type": "stream",
     "text": [
      "\n"
     ]
    }
   ],
   "source": [
    "test_p2f_identification_kl_div(args, model, T = 1)"
   ]
  },
  {
   "cell_type": "code",
   "execution_count": 6,
   "id": "94fd96e4",
   "metadata": {},
   "outputs": [
    {
     "name": "stdout",
     "output_type": "stream",
     "text": [
      "The periocular-to-face CMC of ethnic with KL Div start\n",
      "\n"
     ]
    },
    {
     "name": "stderr",
     "output_type": "stream",
     "text": [
      "206it [00:14, 14.20it/s]\n",
      "3022it [02:17, 21.99it/s]\n"
     ]
    },
    {
     "name": "stdout",
     "output_type": "stream",
     "text": [
      "0.93596 \n",
      "\n"
     ]
    },
    {
     "name": "stderr",
     "output_type": "stream",
     "text": [
      "3022it [02:13, 22.69it/s]\n",
      "206it [00:17, 11.85it/s]\n"
     ]
    },
    {
     "name": "stdout",
     "output_type": "stream",
     "text": [
      "0.97021 \n",
      "\n",
      "\n",
      "The periocular-to-face CMC of ethnic with KL Div :\n",
      "[0.953085 0.96695  0.97178  0.97511  0.97784 ]\n",
      "It took 5m 45s\n",
      "\n",
      "The periocular-to-face CMC of ar with KL Div start\n",
      "\n"
     ]
    },
    {
     "name": "stderr",
     "output_type": "stream",
     "text": [
      "88it [00:04, 18.73it/s]\n",
      "350it [00:16, 21.37it/s]\n"
     ]
    },
    {
     "name": "stdout",
     "output_type": "stream",
     "text": [
      "0.515 \n",
      "\n"
     ]
    },
    {
     "name": "stderr",
     "output_type": "stream",
     "text": [
      "88it [00:04, 21.01it/s]\n",
      "175it [00:08, 20.95it/s]\n"
     ]
    },
    {
     "name": "stdout",
     "output_type": "stream",
     "text": [
      "0.95643 \n",
      "\n"
     ]
    },
    {
     "name": "stderr",
     "output_type": "stream",
     "text": [
      "88it [00:04, 19.21it/s]\n",
      "438it [00:19, 22.23it/s]\n"
     ]
    },
    {
     "name": "stdout",
     "output_type": "stream",
     "text": [
      "0.91857 \n",
      "\n"
     ]
    },
    {
     "name": "stderr",
     "output_type": "stream",
     "text": [
      "88it [00:04, 20.01it/s]\n",
      "75it [00:05, 12.50it/s]\n"
     ]
    },
    {
     "name": "stdout",
     "output_type": "stream",
     "text": [
      "0.97833 \n",
      "\n"
     ]
    },
    {
     "name": "stderr",
     "output_type": "stream",
     "text": [
      "350it [00:15, 22.30it/s]\n",
      "88it [00:04, 18.87it/s]\n"
     ]
    },
    {
     "name": "stdout",
     "output_type": "stream",
     "text": [
      "0.93429 \n",
      "\n"
     ]
    },
    {
     "name": "stderr",
     "output_type": "stream",
     "text": [
      "350it [00:15, 22.26it/s]\n",
      "175it [00:08, 20.27it/s]\n"
     ]
    },
    {
     "name": "stdout",
     "output_type": "stream",
     "text": [
      "0.99714 \n",
      "\n"
     ]
    },
    {
     "name": "stderr",
     "output_type": "stream",
     "text": [
      "350it [00:15, 22.03it/s]\n",
      "438it [00:20, 21.25it/s]\n"
     ]
    },
    {
     "name": "stdout",
     "output_type": "stream",
     "text": [
      "0.96114 \n",
      "\n"
     ]
    },
    {
     "name": "stderr",
     "output_type": "stream",
     "text": [
      "350it [00:15, 22.17it/s]\n",
      "75it [00:06, 12.49it/s]\n"
     ]
    },
    {
     "name": "stdout",
     "output_type": "stream",
     "text": [
      "0.95833 \n",
      "\n"
     ]
    },
    {
     "name": "stderr",
     "output_type": "stream",
     "text": [
      "175it [00:08, 21.20it/s]\n",
      "88it [00:04, 19.93it/s]\n"
     ]
    },
    {
     "name": "stdout",
     "output_type": "stream",
     "text": [
      "0.95714 \n",
      "\n"
     ]
    },
    {
     "name": "stderr",
     "output_type": "stream",
     "text": [
      "175it [00:08, 21.08it/s]\n",
      "350it [00:16, 21.70it/s]\n"
     ]
    },
    {
     "name": "stdout",
     "output_type": "stream",
     "text": [
      "0.63429 \n",
      "\n"
     ]
    },
    {
     "name": "stderr",
     "output_type": "stream",
     "text": [
      "175it [00:08, 21.34it/s]\n",
      "438it [00:20, 21.88it/s]\n"
     ]
    },
    {
     "name": "stdout",
     "output_type": "stream",
     "text": [
      "0.97943 \n",
      "\n"
     ]
    },
    {
     "name": "stderr",
     "output_type": "stream",
     "text": [
      "175it [00:08, 21.43it/s]\n",
      "75it [00:06, 12.12it/s]\n"
     ]
    },
    {
     "name": "stdout",
     "output_type": "stream",
     "text": [
      "0.985 \n",
      "\n"
     ]
    },
    {
     "name": "stderr",
     "output_type": "stream",
     "text": [
      "438it [00:19, 22.50it/s]\n",
      "88it [00:04, 18.70it/s]\n"
     ]
    },
    {
     "name": "stdout",
     "output_type": "stream",
     "text": [
      "0.94714 \n",
      "\n"
     ]
    },
    {
     "name": "stderr",
     "output_type": "stream",
     "text": [
      "438it [00:19, 22.61it/s]\n",
      "350it [00:16, 21.07it/s]\n"
     ]
    },
    {
     "name": "stdout",
     "output_type": "stream",
     "text": [
      "0.61679 \n",
      "\n"
     ]
    },
    {
     "name": "stderr",
     "output_type": "stream",
     "text": [
      "438it [00:19, 22.65it/s]\n",
      "175it [00:08, 20.19it/s]\n"
     ]
    },
    {
     "name": "stdout",
     "output_type": "stream",
     "text": [
      "0.99857 \n",
      "\n"
     ]
    },
    {
     "name": "stderr",
     "output_type": "stream",
     "text": [
      "438it [00:19, 22.57it/s]\n",
      "75it [00:06, 12.16it/s]\n"
     ]
    },
    {
     "name": "stdout",
     "output_type": "stream",
     "text": [
      "0.98833 \n",
      "\n"
     ]
    },
    {
     "name": "stderr",
     "output_type": "stream",
     "text": [
      "75it [00:05, 12.68it/s]\n",
      "88it [00:04, 20.05it/s]\n"
     ]
    },
    {
     "name": "stdout",
     "output_type": "stream",
     "text": [
      "0.91 \n",
      "\n"
     ]
    },
    {
     "name": "stderr",
     "output_type": "stream",
     "text": [
      "75it [00:05, 12.67it/s]\n",
      "350it [00:15, 22.22it/s]\n"
     ]
    },
    {
     "name": "stdout",
     "output_type": "stream",
     "text": [
      "0.50929 \n",
      "\n"
     ]
    },
    {
     "name": "stderr",
     "output_type": "stream",
     "text": [
      "75it [00:05, 12.53it/s]\n",
      "175it [00:08, 21.47it/s]\n"
     ]
    },
    {
     "name": "stdout",
     "output_type": "stream",
     "text": [
      "0.90429 \n",
      "\n"
     ]
    },
    {
     "name": "stderr",
     "output_type": "stream",
     "text": [
      "75it [00:05, 12.56it/s]\n",
      "438it [00:19, 22.26it/s]"
     ]
    },
    {
     "name": "stdout",
     "output_type": "stream",
     "text": [
      "0.87857 \n",
      "\n",
      "\n",
      "The periocular-to-face CMC of ar with KL Div :\n",
      "[0.8764035 0.8952935 0.9067785 0.9145425 0.9210985]\n",
      "It took 12m 30s\n",
      "\n",
      "The periocular-to-face CMC dictionary with KL Div : \n",
      "{'ethnic': array([0.953085, 0.96695 , 0.97178 , 0.97511 , 0.97784 ]), 'ar': array([0.8764035, 0.8952935, 0.9067785, 0.9145425, 0.9210985])}\n",
      "It took 0.0h 18.0m\n"
     ]
    },
    {
     "name": "stderr",
     "output_type": "stream",
     "text": [
      "\n"
     ]
    }
   ],
   "source": [
    "test_p2f_identification_kl_div(args, model, T = 2.5)"
   ]
  },
  {
   "cell_type": "code",
   "execution_count": 6,
   "id": "5f717c25",
   "metadata": {},
   "outputs": [
    {
     "name": "stdout",
     "output_type": "stream",
     "text": [
      "The periocular-to-face EER of ethnic with KL divergence start\n"
     ]
    },
    {
     "name": "stderr",
     "output_type": "stream",
     "text": [
      "165it [00:09, 16.94it/s]\n"
     ]
    },
    {
     "name": "stdout",
     "output_type": "stream",
     "text": [
      "\n",
      "The periocular-to-face EER of ethnic with KL divergence: 0.05754\n",
      "\n",
      "The periocular-to-face EER dictionary with KL divergence : \n",
      "{'ethnic': 0.05754}\n",
      "The periocular-to-face EER of ar with KL divergence start\n"
     ]
    },
    {
     "name": "stderr",
     "output_type": "stream",
     "text": [
      "50it [00:06,  7.31it/s]\n"
     ]
    },
    {
     "name": "stdout",
     "output_type": "stream",
     "text": [
      "\n",
      "The periocular-to-face EER of ar with KL divergence: 0.09174\n",
      "\n",
      "The periocular-to-face EER dictionary with KL divergence : \n",
      "{'ethnic': 0.05754, 'ar': 0.09174}\n"
     ]
    }
   ],
   "source": [
    "test_p2f_verification_kl_div(args, model, T = 1)"
   ]
  },
  {
   "cell_type": "code",
   "execution_count": 7,
   "id": "f8e5555f",
   "metadata": {},
   "outputs": [
    {
     "name": "stdout",
     "output_type": "stream",
     "text": [
      "The periocular-to-face EER of ethnic with KL divergence start\n"
     ]
    },
    {
     "name": "stderr",
     "output_type": "stream",
     "text": [
      "165it [00:07, 21.05it/s]\n"
     ]
    },
    {
     "name": "stdout",
     "output_type": "stream",
     "text": [
      "\n",
      "The periocular-to-face EER of ethnic with KL divergence: 0.06659\n",
      "\n",
      "The periocular-to-face EER of ar with KL divergence start\n"
     ]
    },
    {
     "name": "stderr",
     "output_type": "stream",
     "text": [
      "50it [00:06,  7.54it/s]\n"
     ]
    },
    {
     "name": "stdout",
     "output_type": "stream",
     "text": [
      "\n",
      "The periocular-to-face EER of ar with KL divergence: 0.09546\n",
      "\n",
      "The periocular-to-face EER dictionary with KL divergence : \n",
      "{'ethnic': 0.06659, 'ar': 0.09546}\n"
     ]
    }
   ],
   "source": [
    "test_p2f_verification_kl_div(args, model, T = 2.5)"
   ]
  },
  {
   "cell_type": "code",
   "execution_count": null,
   "id": "19c1eb8f",
   "metadata": {},
   "outputs": [],
   "source": []
  }
 ],
 "metadata": {
  "kernelspec": {
   "display_name": "Python 3 (ipykernel)",
   "language": "python",
   "name": "python3"
  },
  "language_info": {
   "codemirror_mode": {
    "name": "ipython",
    "version": 3
   },
   "file_extension": ".py",
   "mimetype": "text/x-python",
   "name": "python",
   "nbconvert_exporter": "python",
   "pygments_lexer": "ipython3",
   "version": "3.12.7"
  }
 },
 "nbformat": 4,
 "nbformat_minor": 5
}
