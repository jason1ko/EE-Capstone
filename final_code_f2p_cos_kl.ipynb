{
 "cells": [
  {
   "cell_type": "code",
   "execution_count": 1,
   "id": "ceb194e4",
   "metadata": {},
   "outputs": [
    {
     "data": {
      "text/plain": [
       "'Z:\\\\jupyter notebook files\\\\EE Capstone\\\\play_ckd'"
      ]
     },
     "execution_count": 1,
     "metadata": {},
     "output_type": "execute_result"
    }
   ],
   "source": [
    "import os\n",
    "os.getcwd()"
   ]
  },
  {
   "cell_type": "code",
   "execution_count": 2,
   "id": "84d5086a",
   "metadata": {},
   "outputs": [],
   "source": [
    "import torch\n",
    "import importlib\n",
    "import torch.nn as nn\n",
    "import numpy as np\n",
    "\n",
    "from tabulate import tabulate\n",
    "\n",
    "from get_args_parser import get_args_parser\n",
    "\n",
    "from dataset import get_identification_dataloaders, get_verification_dataloaders\n",
    "\n",
    "from main_test import test_f2p_identification_cos_sim, test_f2p_verification_cos_sim\n",
    "from main_test import test_f2p_identification_kl_div, test_f2p_verification_kl_div\n",
    "\n",
    "from models.load_trained_models import load_trained_ckd\n",
    "from misc.utils_torch import set_seed\n",
    "from misc.utils_python import get_paths, import_yaml_config, generate_pairs"
   ]
  },
  {
   "cell_type": "code",
   "execution_count": 3,
   "id": "14f0def2",
   "metadata": {},
   "outputs": [
    {
     "data": {
      "text/plain": [
       "True"
      ]
     },
     "execution_count": 3,
     "metadata": {},
     "output_type": "execute_result"
    }
   ],
   "source": [
    "torch.cuda.is_available()"
   ]
  },
  {
   "cell_type": "code",
   "execution_count": 4,
   "id": "77c78e69",
   "metadata": {},
   "outputs": [
    {
     "name": "stdout",
     "output_type": "stream",
     "text": [
      "arguments       values\n",
      "--------------  --------------------------------------------------------------------------------------------------------------------------\n",
      "config_name     ckd_config01\n",
      "gpu_num         1\n",
      "num_workers     8\n",
      "tb_log          False\n",
      "seed\n",
      "data_root_path  Z:\\image_datasets\n",
      "save_root_path  ./saved_models\n",
      "model_name      CKD\n",
      "backbone_name   resnet18\n",
      "train_config    {'num_epochs': 90, 'batch_size': 512, 'lr': 0.1, 'milestones': [30, 60, 80], 'momentum': 0.9, 'weight_decay_rate': 0.0005}\n",
      "model_config    {'tau': 2.5}\n",
      "device          cuda\n",
      "save_dir_path   ./saved_models/ckd_config01\n",
      "log_dir_path    ./logs/result_log/ckd_config01\n",
      "tb_dir_path     ./logs/tb_log/ckd_config01/2022-08-29-10-57-12\n"
     ]
    }
   ],
   "source": [
    "parser = get_args_parser()\n",
    "args = parser.parse_args('')\n",
    "args = import_yaml_config(args)\n",
    "args.device = torch.device('cuda' if torch.cuda.is_available() else 'cpu')\n",
    "\n",
    "if args.seed != None:\n",
    "    set_seed(0)\n",
    "args = get_paths(args)\n",
    "\n",
    "print(tabulate(list(vars(args).items()), headers=['arguments', 'values']))"
   ]
  },
  {
   "cell_type": "code",
   "execution_count": 5,
   "id": "6667f820",
   "metadata": {},
   "outputs": [],
   "source": [
    "model_modules = importlib.import_module('models.{}'.format(args.model_name))\n",
    "\n",
    "args.num_classes = 1054\n",
    "\n",
    "model = model_modules.make_model(args)\n",
    "model = model.to(args.device)\n",
    "load_trained_ckd(model, f\"{args.save_dir_path}/model_best.pth\" )\n",
    "\n",
    "args.num_workers = 4"
   ]
  },
  {
   "cell_type": "code",
   "execution_count": 6,
   "id": "d6c7c75b",
   "metadata": {},
   "outputs": [
    {
     "name": "stdout",
     "output_type": "stream",
     "text": [
      "The face-to-periocular CMC of ethnic start\n",
      "\n"
     ]
    },
    {
     "name": "stderr",
     "output_type": "stream",
     "text": [
      "52it [00:09,  5.38it/s]\n",
      "756it [01:31,  8.28it/s]\n"
     ]
    },
    {
     "name": "stdout",
     "output_type": "stream",
     "text": [
      "0.93352 \n",
      "\n"
     ]
    },
    {
     "name": "stderr",
     "output_type": "stream",
     "text": [
      "756it [01:29,  8.44it/s]\n",
      "52it [00:06,  7.66it/s]\n"
     ]
    },
    {
     "name": "stdout",
     "output_type": "stream",
     "text": [
      "0.97447 \n",
      "\n",
      "\n",
      "The face-to-periocular CMC of ethnic :\n",
      "[0.953995 0.968065 0.97396  0.976825 0.97868 ]\n",
      "It took 3m 57s\n",
      "\n",
      "The face-to-periocular CMC of pubfig start\n",
      "\n"
     ]
    },
    {
     "name": "stderr",
     "output_type": "stream",
     "text": [
      "289it [00:35,  8.25it/s]\n",
      "240it [00:29,  8.08it/s]\n"
     ]
    },
    {
     "name": "stdout",
     "output_type": "stream",
     "text": [
      "1.0 \n",
      "\n"
     ]
    },
    {
     "name": "stderr",
     "output_type": "stream",
     "text": [
      "289it [00:34,  8.34it/s]\n",
      "192it [00:24,  7.89it/s]\n"
     ]
    },
    {
     "name": "stdout",
     "output_type": "stream",
     "text": [
      "0.98469 \n",
      "\n"
     ]
    },
    {
     "name": "stderr",
     "output_type": "stream",
     "text": [
      "289it [00:34,  8.33it/s]\n",
      "191it [00:23,  8.00it/s]\n"
     ]
    },
    {
     "name": "stdout",
     "output_type": "stream",
     "text": [
      "0.98443 \n",
      "\n"
     ]
    },
    {
     "name": "stderr",
     "output_type": "stream",
     "text": [
      "240it [00:28,  8.29it/s]\n",
      "289it [00:34,  8.28it/s]\n"
     ]
    },
    {
     "name": "stdout",
     "output_type": "stream",
     "text": [
      "0.97592 \n",
      "\n"
     ]
    },
    {
     "name": "stderr",
     "output_type": "stream",
     "text": [
      "240it [00:28,  8.29it/s]\n",
      "192it [00:23,  8.18it/s]\n"
     ]
    },
    {
     "name": "stdout",
     "output_type": "stream",
     "text": [
      "0.98403 \n",
      "\n"
     ]
    },
    {
     "name": "stderr",
     "output_type": "stream",
     "text": [
      "240it [00:28,  8.29it/s]\n",
      "191it [00:23,  8.19it/s]\n"
     ]
    },
    {
     "name": "stdout",
     "output_type": "stream",
     "text": [
      "0.98361 \n",
      "\n"
     ]
    },
    {
     "name": "stderr",
     "output_type": "stream",
     "text": [
      "192it [00:23,  8.26it/s]\n",
      "289it [00:34,  8.30it/s]\n"
     ]
    },
    {
     "name": "stdout",
     "output_type": "stream",
     "text": [
      "0.93179 \n",
      "\n"
     ]
    },
    {
     "name": "stderr",
     "output_type": "stream",
     "text": [
      "192it [00:23,  8.25it/s]\n",
      "240it [00:29,  8.26it/s]\n"
     ]
    },
    {
     "name": "stdout",
     "output_type": "stream",
     "text": [
      "0.95195 \n",
      "\n"
     ]
    },
    {
     "name": "stderr",
     "output_type": "stream",
     "text": [
      "192it [00:23,  8.22it/s]\n",
      "191it [00:23,  8.19it/s]\n"
     ]
    },
    {
     "name": "stdout",
     "output_type": "stream",
     "text": [
      "0.97836 \n",
      "\n"
     ]
    },
    {
     "name": "stderr",
     "output_type": "stream",
     "text": [
      "191it [00:23,  8.21it/s]\n",
      "289it [00:34,  8.32it/s]\n"
     ]
    },
    {
     "name": "stdout",
     "output_type": "stream",
     "text": [
      "0.93634 \n",
      "\n"
     ]
    },
    {
     "name": "stderr",
     "output_type": "stream",
     "text": [
      "191it [00:23,  8.24it/s]\n",
      "240it [00:28,  8.28it/s]\n"
     ]
    },
    {
     "name": "stdout",
     "output_type": "stream",
     "text": [
      "0.95547 \n",
      "\n"
     ]
    },
    {
     "name": "stderr",
     "output_type": "stream",
     "text": [
      "191it [00:23,  8.27it/s]\n",
      "192it [00:23,  8.24it/s]\n"
     ]
    },
    {
     "name": "stdout",
     "output_type": "stream",
     "text": [
      "0.97931 \n",
      "\n",
      "\n",
      "The face-to-periocular CMC of pubfig :\n",
      "[0.97049167 0.97919667 0.9827375  0.98477083 0.98623083]\n",
      "It took 14m 58s\n",
      "\n",
      "The face-to-periocular CMC of facescrub start\n",
      "\n"
     ]
    },
    {
     "name": "stderr",
     "output_type": "stream",
     "text": [
      "971it [01:55,  8.39it/s]\n",
      "673it [01:23,  8.07it/s]\n"
     ]
    },
    {
     "name": "stdout",
     "output_type": "stream",
     "text": [
      "0.98155 \n",
      "\n"
     ]
    },
    {
     "name": "stderr",
     "output_type": "stream",
     "text": [
      "971it [01:56,  8.34it/s]\n",
      "853it [01:45,  8.07it/s]\n"
     ]
    },
    {
     "name": "stdout",
     "output_type": "stream",
     "text": [
      "0.9697 \n",
      "\n"
     ]
    },
    {
     "name": "stderr",
     "output_type": "stream",
     "text": [
      "673it [01:20,  8.34it/s]\n",
      "971it [01:59,  8.14it/s]\n"
     ]
    },
    {
     "name": "stdout",
     "output_type": "stream",
     "text": [
      "0.9607 \n",
      "\n"
     ]
    },
    {
     "name": "stderr",
     "output_type": "stream",
     "text": [
      "673it [01:20,  8.39it/s]\n",
      "853it [01:44,  8.18it/s]\n"
     ]
    },
    {
     "name": "stdout",
     "output_type": "stream",
     "text": [
      "0.96728 \n",
      "\n"
     ]
    },
    {
     "name": "stderr",
     "output_type": "stream",
     "text": [
      "853it [01:41,  8.40it/s]\n",
      "971it [01:57,  8.27it/s]\n"
     ]
    },
    {
     "name": "stdout",
     "output_type": "stream",
     "text": [
      "0.96266 \n",
      "\n"
     ]
    },
    {
     "name": "stderr",
     "output_type": "stream",
     "text": [
      "853it [01:41,  8.40it/s]\n",
      "673it [01:21,  8.25it/s]\n"
     ]
    },
    {
     "name": "stdout",
     "output_type": "stream",
     "text": [
      "0.9816 \n",
      "\n",
      "\n",
      "The face-to-periocular CMC of facescrub :\n",
      "[0.97058167 0.97709667 0.979755   0.98130833 0.982425  ]\n",
      "It took 22m 20s\n",
      "\n",
      "The face-to-periocular CMC of imdb_wiki start\n",
      "\n"
     ]
    },
    {
     "name": "stderr",
     "output_type": "stream",
     "text": [
      "1258it [02:29,  8.39it/s]\n",
      "552it [01:09,  7.98it/s]\n"
     ]
    },
    {
     "name": "stdout",
     "output_type": "stream",
     "text": [
      "0.84834 \n",
      "\n"
     ]
    },
    {
     "name": "stderr",
     "output_type": "stream",
     "text": [
      "1258it [02:30,  8.38it/s]\n",
      "477it [01:00,  7.92it/s]\n"
     ]
    },
    {
     "name": "stdout",
     "output_type": "stream",
     "text": [
      "0.88644 \n",
      "\n"
     ]
    },
    {
     "name": "stderr",
     "output_type": "stream",
     "text": [
      "1258it [02:29,  8.43it/s]\n",
      "509it [01:03,  7.99it/s]\n"
     ]
    },
    {
     "name": "stdout",
     "output_type": "stream",
     "text": [
      "0.88853 \n",
      "\n"
     ]
    },
    {
     "name": "stderr",
     "output_type": "stream",
     "text": [
      "552it [01:05,  8.37it/s]\n",
      "1258it [02:30,  8.33it/s]\n"
     ]
    },
    {
     "name": "stdout",
     "output_type": "stream",
     "text": [
      "0.75766 \n",
      "\n"
     ]
    },
    {
     "name": "stderr",
     "output_type": "stream",
     "text": [
      "552it [01:05,  8.38it/s]\n",
      "477it [00:57,  8.28it/s]\n"
     ]
    },
    {
     "name": "stdout",
     "output_type": "stream",
     "text": [
      "0.86716 \n",
      "\n"
     ]
    },
    {
     "name": "stderr",
     "output_type": "stream",
     "text": [
      "552it [01:05,  8.39it/s]\n",
      "509it [01:01,  8.28it/s]\n"
     ]
    },
    {
     "name": "stdout",
     "output_type": "stream",
     "text": [
      "0.86063 \n",
      "\n"
     ]
    },
    {
     "name": "stderr",
     "output_type": "stream",
     "text": [
      "477it [00:57,  8.36it/s]\n",
      "1258it [02:31,  8.32it/s]\n"
     ]
    },
    {
     "name": "stdout",
     "output_type": "stream",
     "text": [
      "0.73743 \n",
      "\n"
     ]
    },
    {
     "name": "stderr",
     "output_type": "stream",
     "text": [
      "477it [00:58,  8.21it/s]\n",
      "552it [01:06,  8.29it/s]\n"
     ]
    },
    {
     "name": "stdout",
     "output_type": "stream",
     "text": [
      "0.8066 \n",
      "\n"
     ]
    },
    {
     "name": "stderr",
     "output_type": "stream",
     "text": [
      "477it [00:57,  8.35it/s]\n",
      "509it [01:01,  8.29it/s]\n"
     ]
    },
    {
     "name": "stdout",
     "output_type": "stream",
     "text": [
      "0.85633 \n",
      "\n"
     ]
    },
    {
     "name": "stderr",
     "output_type": "stream",
     "text": [
      "509it [01:00,  8.38it/s]\n",
      "1258it [02:31,  8.33it/s]\n"
     ]
    },
    {
     "name": "stdout",
     "output_type": "stream",
     "text": [
      "0.74916 \n",
      "\n"
     ]
    },
    {
     "name": "stderr",
     "output_type": "stream",
     "text": [
      "509it [01:00,  8.37it/s]\n",
      "552it [01:06,  8.28it/s]\n"
     ]
    },
    {
     "name": "stdout",
     "output_type": "stream",
     "text": [
      "0.8096 \n",
      "\n"
     ]
    },
    {
     "name": "stderr",
     "output_type": "stream",
     "text": [
      "509it [01:00,  8.37it/s]\n",
      "477it [00:57,  8.30it/s]\n"
     ]
    },
    {
     "name": "stdout",
     "output_type": "stream",
     "text": [
      "0.86113 \n",
      "\n",
      "\n",
      "The face-to-periocular CMC of imdb_wiki :\n",
      "[0.8274175  0.86728333 0.88373167 0.89362667 0.9009925 ]\n",
      "It took 38m 19s\n",
      "\n",
      "The face-to-periocular CMC of ar start\n",
      "\n"
     ]
    },
    {
     "name": "stderr",
     "output_type": "stream",
     "text": [
      "22it [00:03,  6.17it/s]\n",
      "88it [00:11,  7.54it/s]\n"
     ]
    },
    {
     "name": "stdout",
     "output_type": "stream",
     "text": [
      "0.68071 \n",
      "\n"
     ]
    },
    {
     "name": "stderr",
     "output_type": "stream",
     "text": [
      "22it [00:03,  6.76it/s]\n",
      "44it [00:06,  7.19it/s]\n"
     ]
    },
    {
     "name": "stdout",
     "output_type": "stream",
     "text": [
      "0.95643 \n",
      "\n"
     ]
    },
    {
     "name": "stderr",
     "output_type": "stream",
     "text": [
      "22it [00:03,  6.85it/s]\n",
      "110it [00:13,  7.95it/s]\n"
     ]
    },
    {
     "name": "stdout",
     "output_type": "stream",
     "text": [
      "0.90571 \n",
      "\n"
     ]
    },
    {
     "name": "stderr",
     "output_type": "stream",
     "text": [
      "22it [00:03,  6.89it/s]\n",
      "19it [00:05,  3.55it/s]\n"
     ]
    },
    {
     "name": "stdout",
     "output_type": "stream",
     "text": [
      "0.98167 \n",
      "\n"
     ]
    },
    {
     "name": "stderr",
     "output_type": "stream",
     "text": [
      "88it [00:10,  8.04it/s]\n",
      "22it [00:03,  6.70it/s]\n"
     ]
    },
    {
     "name": "stdout",
     "output_type": "stream",
     "text": [
      "0.94714 \n",
      "\n"
     ]
    },
    {
     "name": "stderr",
     "output_type": "stream",
     "text": [
      "88it [00:10,  8.08it/s]\n",
      "44it [00:05,  7.62it/s]\n"
     ]
    },
    {
     "name": "stdout",
     "output_type": "stream",
     "text": [
      "0.99786 \n",
      "\n"
     ]
    },
    {
     "name": "stderr",
     "output_type": "stream",
     "text": [
      "88it [00:10,  8.06it/s]\n",
      "110it [00:13,  8.03it/s]\n"
     ]
    },
    {
     "name": "stdout",
     "output_type": "stream",
     "text": [
      "0.95514 \n",
      "\n"
     ]
    },
    {
     "name": "stderr",
     "output_type": "stream",
     "text": [
      "88it [00:11,  7.99it/s]\n",
      "19it [00:05,  3.75it/s]\n"
     ]
    },
    {
     "name": "stdout",
     "output_type": "stream",
     "text": [
      "0.96333 \n",
      "\n"
     ]
    },
    {
     "name": "stderr",
     "output_type": "stream",
     "text": [
      "44it [00:05,  7.60it/s]\n",
      "22it [00:03,  6.96it/s]\n"
     ]
    },
    {
     "name": "stdout",
     "output_type": "stream",
     "text": [
      "0.96857 \n",
      "\n"
     ]
    },
    {
     "name": "stderr",
     "output_type": "stream",
     "text": [
      "44it [00:05,  7.53it/s]\n",
      "88it [00:11,  7.97it/s]\n"
     ]
    },
    {
     "name": "stdout",
     "output_type": "stream",
     "text": [
      "0.81857 \n",
      "\n"
     ]
    },
    {
     "name": "stderr",
     "output_type": "stream",
     "text": [
      "44it [00:05,  7.58it/s]\n",
      "110it [00:13,  8.12it/s]\n"
     ]
    },
    {
     "name": "stdout",
     "output_type": "stream",
     "text": [
      "0.97857 \n",
      "\n"
     ]
    },
    {
     "name": "stderr",
     "output_type": "stream",
     "text": [
      "44it [00:05,  7.65it/s]\n",
      "19it [00:04,  3.83it/s]\n"
     ]
    },
    {
     "name": "stdout",
     "output_type": "stream",
     "text": [
      "0.99167 \n",
      "\n"
     ]
    },
    {
     "name": "stderr",
     "output_type": "stream",
     "text": [
      "110it [00:13,  8.15it/s]\n",
      "22it [00:03,  6.87it/s]\n"
     ]
    },
    {
     "name": "stdout",
     "output_type": "stream",
     "text": [
      "0.95571 \n",
      "\n"
     ]
    },
    {
     "name": "stderr",
     "output_type": "stream",
     "text": [
      "110it [00:13,  8.12it/s]\n",
      "88it [00:10,  8.03it/s]\n"
     ]
    },
    {
     "name": "stdout",
     "output_type": "stream",
     "text": [
      "0.7775 \n",
      "\n"
     ]
    },
    {
     "name": "stderr",
     "output_type": "stream",
     "text": [
      "110it [00:13,  8.20it/s]\n",
      "44it [00:05,  7.44it/s]\n"
     ]
    },
    {
     "name": "stdout",
     "output_type": "stream",
     "text": [
      "0.99786 \n",
      "\n"
     ]
    },
    {
     "name": "stderr",
     "output_type": "stream",
     "text": [
      "110it [00:13,  8.20it/s]\n",
      "19it [00:05,  3.71it/s]\n"
     ]
    },
    {
     "name": "stdout",
     "output_type": "stream",
     "text": [
      "0.98667 \n",
      "\n"
     ]
    },
    {
     "name": "stderr",
     "output_type": "stream",
     "text": [
      "19it [00:04,  3.86it/s]\n",
      "22it [00:03,  7.10it/s]\n"
     ]
    },
    {
     "name": "stdout",
     "output_type": "stream",
     "text": [
      "0.91571 \n",
      "\n"
     ]
    },
    {
     "name": "stderr",
     "output_type": "stream",
     "text": [
      "19it [00:05,  3.78it/s]\n",
      "88it [00:10,  8.08it/s]\n"
     ]
    },
    {
     "name": "stdout",
     "output_type": "stream",
     "text": [
      "0.66464 \n",
      "\n"
     ]
    },
    {
     "name": "stderr",
     "output_type": "stream",
     "text": [
      "19it [00:05,  3.80it/s]\n",
      "44it [00:05,  7.66it/s]\n"
     ]
    },
    {
     "name": "stdout",
     "output_type": "stream",
     "text": [
      "0.89857 \n",
      "\n"
     ]
    },
    {
     "name": "stderr",
     "output_type": "stream",
     "text": [
      "19it [00:05,  3.72it/s]\n",
      "110it [00:13,  8.07it/s]\n"
     ]
    },
    {
     "name": "stdout",
     "output_type": "stream",
     "text": [
      "0.85571 \n",
      "\n",
      "\n",
      "The face-to-periocular CMC of ar :\n",
      "[0.909887  0.9291405 0.940528  0.9483945 0.9539845]\n",
      "It took 10m 19s\n",
      "\n",
      "The face-to-periocular CMC of ytf start\n",
      "\n",
      "ytf dataloading takes some time, please wait\n",
      "ytf dataloading takes some time, please wait\n",
      "dataloader time elapsed : 26m 19.72s\n",
      "\n"
     ]
    },
    {
     "name": "stderr",
     "output_type": "stream",
     "text": [
      "473it [00:57,  8.23it/s]\n",
      "119it [00:14,  7.99it/s]\n"
     ]
    },
    {
     "name": "stdout",
     "output_type": "stream",
     "text": [
      "0.72436 \n",
      "\n",
      "ytf dataloading takes some time, please wait\n",
      "ytf dataloading takes some time, please wait\n",
      "dataloader time elapsed : 19m 26.46s\n",
      "\n"
     ]
    },
    {
     "name": "stderr",
     "output_type": "stream",
     "text": [
      "119it [00:14,  8.10it/s]\n",
      "473it [00:57,  8.26it/s]\n"
     ]
    },
    {
     "name": "stdout",
     "output_type": "stream",
     "text": [
      "0.55196 \n",
      "\n",
      "\n",
      "The face-to-periocular CMC of ytf :\n",
      "[0.63816  0.68178  0.703675 0.718305 0.729485]\n",
      "It took 49m 26s\n",
      "\n",
      "The face-to-periocular CMC dictionary : \n",
      "{'ethnic': array([0.953995, 0.968065, 0.97396 , 0.976825, 0.97868 ]), 'pubfig': array([0.97049167, 0.97919667, 0.9827375 , 0.98477083, 0.98623083]), 'facescrub': array([0.97058167, 0.97709667, 0.979755  , 0.98130833, 0.982425  ]), 'imdb_wiki': array([0.8274175 , 0.86728333, 0.88373167, 0.89362667, 0.9009925 ]), 'ar': array([0.909887 , 0.9291405, 0.940528 , 0.9483945, 0.9539845]), 'ytf': array([0.63816 , 0.68178 , 0.703675, 0.718305, 0.729485])}\n",
      "It took 2.0h 19.0m\n"
     ]
    }
   ],
   "source": [
    "test_f2p_identification_cos_sim(args, model)"
   ]
  },
  {
   "cell_type": "code",
   "execution_count": 9,
   "id": "5e7afc4e",
   "metadata": {},
   "outputs": [
    {
     "name": "stdout",
     "output_type": "stream",
     "text": [
      "The face-to-periocular EER of ethnic start\n",
      "\n"
     ]
    },
    {
     "name": "stderr",
     "output_type": "stream",
     "text": [
      "42it [00:06,  6.90it/s]\n"
     ]
    },
    {
     "name": "stdout",
     "output_type": "stream",
     "text": [
      "\n",
      "The face-to-periocular EER of ethnic : 0.05717\n",
      "\n",
      "The face-to-periocular EER of pubfig start\n",
      "\n"
     ]
    },
    {
     "name": "stderr",
     "output_type": "stream",
     "text": [
      "25it [00:03,  6.47it/s]\n"
     ]
    },
    {
     "name": "stdout",
     "output_type": "stream",
     "text": [
      "\n",
      "The face-to-periocular EER of pubfig : 0.05094\n",
      "\n",
      "The face-to-periocular EER of facescrub start\n",
      "\n"
     ]
    },
    {
     "name": "stderr",
     "output_type": "stream",
     "text": [
      "67it [00:08,  7.69it/s]\n"
     ]
    },
    {
     "name": "stdout",
     "output_type": "stream",
     "text": [
      "\n",
      "The face-to-periocular EER of facescrub : 0.02714\n",
      "\n",
      "The face-to-periocular EER of imdb_wiki start\n",
      "\n"
     ]
    },
    {
     "name": "stderr",
     "output_type": "stream",
     "text": [
      "267it [00:32,  8.32it/s]\n"
     ]
    },
    {
     "name": "stdout",
     "output_type": "stream",
     "text": [
      "\n",
      "The face-to-periocular EER of imdb_wiki : 0.06062\n",
      "\n",
      "The face-to-periocular EER of ar start\n",
      "\n"
     ]
    },
    {
     "name": "stderr",
     "output_type": "stream",
     "text": [
      "13it [00:04,  2.84it/s]\n"
     ]
    },
    {
     "name": "stdout",
     "output_type": "stream",
     "text": [
      "\n",
      "The face-to-periocular EER of ar : 0.08865\n",
      "\n",
      "The face-to-periocular EER of ytf start\n",
      "\n"
     ]
    },
    {
     "name": "stderr",
     "output_type": "stream",
     "text": [
      "29it [00:05,  5.37it/s]"
     ]
    },
    {
     "name": "stdout",
     "output_type": "stream",
     "text": [
      "\n",
      "The face-to-periocular EER of ytf : 0.14339\n",
      "\n",
      "The face-to-periocular EER dictionary : \n",
      "{'ethnic': 0.05717, 'pubfig': 0.05094, 'facescrub': 0.02714, 'imdb_wiki': 0.06062, 'ar': 0.08865, 'ytf': 0.14339}\n"
     ]
    },
    {
     "name": "stderr",
     "output_type": "stream",
     "text": [
      "\n"
     ]
    }
   ],
   "source": [
    "test_f2p_verification_cos_sim(args, model)"
   ]
  },
  {
   "cell_type": "code",
   "execution_count": 6,
   "id": "dfa00e05",
   "metadata": {},
   "outputs": [
    {
     "name": "stdout",
     "output_type": "stream",
     "text": [
      "The face-to-periocular CMC of ethnic with KL Div start\n",
      "\n"
     ]
    },
    {
     "name": "stderr",
     "output_type": "stream",
     "text": [
      "206it [00:12, 16.48it/s]\n",
      "3022it [02:15, 22.33it/s]\n"
     ]
    },
    {
     "name": "stdout",
     "output_type": "stream",
     "text": [
      "0.93352 \n",
      "\n"
     ]
    },
    {
     "name": "stderr",
     "output_type": "stream",
     "text": [
      "3022it [02:11, 23.06it/s]\n",
      "206it [00:17, 11.48it/s]\n"
     ]
    },
    {
     "name": "stdout",
     "output_type": "stream",
     "text": [
      "0.97447 \n",
      "\n",
      "\n",
      "The face-to-periocular CMC of ethnic with KL Div :\n",
      "[0.953995 0.968065 0.97396  0.976825 0.97868 ]\n",
      "It took 5m 36s\n",
      "\n",
      "The face-to-periocular CMC of ar with KL Div start\n",
      "\n"
     ]
    },
    {
     "name": "stderr",
     "output_type": "stream",
     "text": [
      "88it [00:04, 19.52it/s]\n",
      "350it [00:16, 21.24it/s]\n"
     ]
    },
    {
     "name": "stdout",
     "output_type": "stream",
     "text": [
      "0.68071 \n",
      "\n"
     ]
    },
    {
     "name": "stderr",
     "output_type": "stream",
     "text": [
      "88it [00:04, 19.97it/s]\n",
      "175it [00:08, 21.19it/s]\n"
     ]
    },
    {
     "name": "stdout",
     "output_type": "stream",
     "text": [
      "0.95643 \n",
      "\n"
     ]
    },
    {
     "name": "stderr",
     "output_type": "stream",
     "text": [
      "88it [00:04, 20.64it/s]\n",
      "438it [00:19, 22.21it/s]\n"
     ]
    },
    {
     "name": "stdout",
     "output_type": "stream",
     "text": [
      "0.90571 \n",
      "\n"
     ]
    },
    {
     "name": "stderr",
     "output_type": "stream",
     "text": [
      "88it [00:04, 19.58it/s]\n",
      "75it [00:06, 12.39it/s]\n"
     ]
    },
    {
     "name": "stdout",
     "output_type": "stream",
     "text": [
      "0.98167 \n",
      "\n"
     ]
    },
    {
     "name": "stderr",
     "output_type": "stream",
     "text": [
      "350it [00:15, 22.16it/s]\n",
      "88it [00:04, 18.88it/s]\n"
     ]
    },
    {
     "name": "stdout",
     "output_type": "stream",
     "text": [
      "0.94714 \n",
      "\n"
     ]
    },
    {
     "name": "stderr",
     "output_type": "stream",
     "text": [
      "350it [00:15, 22.37it/s]\n",
      "175it [00:08, 20.55it/s]\n"
     ]
    },
    {
     "name": "stdout",
     "output_type": "stream",
     "text": [
      "0.99786 \n",
      "\n"
     ]
    },
    {
     "name": "stderr",
     "output_type": "stream",
     "text": [
      "350it [00:15, 22.32it/s]\n",
      "438it [00:20, 21.45it/s]\n"
     ]
    },
    {
     "name": "stdout",
     "output_type": "stream",
     "text": [
      "0.95514 \n",
      "\n"
     ]
    },
    {
     "name": "stderr",
     "output_type": "stream",
     "text": [
      "350it [00:15, 22.19it/s]\n",
      "75it [00:06, 12.34it/s]\n"
     ]
    },
    {
     "name": "stdout",
     "output_type": "stream",
     "text": [
      "0.96333 \n",
      "\n"
     ]
    },
    {
     "name": "stderr",
     "output_type": "stream",
     "text": [
      "175it [00:08, 21.71it/s]\n",
      "88it [00:04, 20.00it/s]\n"
     ]
    },
    {
     "name": "stdout",
     "output_type": "stream",
     "text": [
      "0.96857 \n",
      "\n"
     ]
    },
    {
     "name": "stderr",
     "output_type": "stream",
     "text": [
      "175it [00:08, 21.26it/s]\n",
      "350it [00:16, 21.85it/s]\n"
     ]
    },
    {
     "name": "stdout",
     "output_type": "stream",
     "text": [
      "0.81857 \n",
      "\n"
     ]
    },
    {
     "name": "stderr",
     "output_type": "stream",
     "text": [
      "175it [00:08, 21.32it/s]\n",
      "438it [00:19, 22.04it/s]\n"
     ]
    },
    {
     "name": "stdout",
     "output_type": "stream",
     "text": [
      "0.97857 \n",
      "\n"
     ]
    },
    {
     "name": "stderr",
     "output_type": "stream",
     "text": [
      "175it [00:08, 21.63it/s]\n",
      "75it [00:06, 12.37it/s]\n"
     ]
    },
    {
     "name": "stdout",
     "output_type": "stream",
     "text": [
      "0.99167 \n",
      "\n"
     ]
    },
    {
     "name": "stderr",
     "output_type": "stream",
     "text": [
      "438it [00:19, 22.51it/s]\n",
      "88it [00:04, 19.32it/s]\n"
     ]
    },
    {
     "name": "stdout",
     "output_type": "stream",
     "text": [
      "0.95571 \n",
      "\n"
     ]
    },
    {
     "name": "stderr",
     "output_type": "stream",
     "text": [
      "438it [00:19, 22.51it/s]\n",
      "350it [00:16, 21.00it/s]\n"
     ]
    },
    {
     "name": "stdout",
     "output_type": "stream",
     "text": [
      "0.7775 \n",
      "\n"
     ]
    },
    {
     "name": "stderr",
     "output_type": "stream",
     "text": [
      "438it [00:19, 22.40it/s]\n",
      "175it [00:08, 20.22it/s]\n"
     ]
    },
    {
     "name": "stdout",
     "output_type": "stream",
     "text": [
      "0.99786 \n",
      "\n"
     ]
    },
    {
     "name": "stderr",
     "output_type": "stream",
     "text": [
      "438it [00:19, 22.52it/s]\n",
      "75it [00:06, 11.88it/s]\n"
     ]
    },
    {
     "name": "stdout",
     "output_type": "stream",
     "text": [
      "0.98667 \n",
      "\n"
     ]
    },
    {
     "name": "stderr",
     "output_type": "stream",
     "text": [
      "75it [00:06, 12.33it/s]\n",
      "88it [00:04, 19.96it/s]\n"
     ]
    },
    {
     "name": "stdout",
     "output_type": "stream",
     "text": [
      "0.91571 \n",
      "\n"
     ]
    },
    {
     "name": "stderr",
     "output_type": "stream",
     "text": [
      "75it [00:06, 12.18it/s]\n",
      "350it [00:15, 21.97it/s]\n"
     ]
    },
    {
     "name": "stdout",
     "output_type": "stream",
     "text": [
      "0.66464 \n",
      "\n"
     ]
    },
    {
     "name": "stderr",
     "output_type": "stream",
     "text": [
      "75it [00:06, 12.22it/s]\n",
      "175it [00:08, 21.18it/s]\n"
     ]
    },
    {
     "name": "stdout",
     "output_type": "stream",
     "text": [
      "0.89857 \n",
      "\n"
     ]
    },
    {
     "name": "stderr",
     "output_type": "stream",
     "text": [
      "75it [00:06, 12.27it/s]\n",
      "438it [00:19, 22.19it/s]"
     ]
    },
    {
     "name": "stdout",
     "output_type": "stream",
     "text": [
      "0.85571 \n",
      "\n",
      "\n",
      "The face-to-periocular CMC of ar with KL Div :\n",
      "[0.909887  0.9291405 0.940528  0.9483945 0.9539845]\n",
      "It took 12m 25s\n",
      "\n",
      "The face-to-periocular CMC dictionary with KL Div : \n",
      "{'ethnic': array([0.953995, 0.968065, 0.97396 , 0.976825, 0.97868 ]), 'ar': array([0.909887 , 0.9291405, 0.940528 , 0.9483945, 0.9539845])}\n",
      "It took 0.0h 18.0m\n"
     ]
    },
    {
     "name": "stderr",
     "output_type": "stream",
     "text": [
      "\n"
     ]
    }
   ],
   "source": [
    "test_f2p_identification_kl_div(args, model,T=1)"
   ]
  },
  {
   "cell_type": "code",
   "execution_count": 6,
   "id": "2fc079c5",
   "metadata": {},
   "outputs": [
    {
     "name": "stdout",
     "output_type": "stream",
     "text": [
      "The face-to-periocular CMC of ethnic with KL Div start\n",
      "\n"
     ]
    },
    {
     "name": "stderr",
     "output_type": "stream",
     "text": [
      "206it [00:14, 14.04it/s]\n",
      "3022it [02:15, 22.29it/s]\n"
     ]
    },
    {
     "name": "stdout",
     "output_type": "stream",
     "text": [
      "0.93352 \n",
      "\n"
     ]
    },
    {
     "name": "stderr",
     "output_type": "stream",
     "text": [
      "3022it [02:11, 23.02it/s]\n",
      "206it [00:19, 10.75it/s]\n"
     ]
    },
    {
     "name": "stdout",
     "output_type": "stream",
     "text": [
      "0.97447 \n",
      "\n",
      "\n",
      "The face-to-periocular CMC of ethnic with KL Div :\n",
      "[0.953995 0.968065 0.97396  0.976825 0.97868 ]\n",
      "It took 5m 42s\n",
      "\n",
      "The face-to-periocular CMC of ar with KL Div start\n",
      "\n"
     ]
    },
    {
     "name": "stderr",
     "output_type": "stream",
     "text": [
      "88it [00:04, 18.57it/s]\n",
      "350it [00:16, 21.28it/s]\n"
     ]
    },
    {
     "name": "stdout",
     "output_type": "stream",
     "text": [
      "0.68071 \n",
      "\n"
     ]
    },
    {
     "name": "stderr",
     "output_type": "stream",
     "text": [
      "88it [00:04, 20.42it/s]\n",
      "175it [00:08, 20.93it/s]\n"
     ]
    },
    {
     "name": "stdout",
     "output_type": "stream",
     "text": [
      "0.95643 \n",
      "\n"
     ]
    },
    {
     "name": "stderr",
     "output_type": "stream",
     "text": [
      "88it [00:04, 19.88it/s]\n",
      "438it [00:19, 22.27it/s]\n"
     ]
    },
    {
     "name": "stdout",
     "output_type": "stream",
     "text": [
      "0.90571 \n",
      "\n"
     ]
    },
    {
     "name": "stderr",
     "output_type": "stream",
     "text": [
      "88it [00:04, 20.42it/s]\n",
      "75it [00:06, 11.99it/s]\n"
     ]
    },
    {
     "name": "stdout",
     "output_type": "stream",
     "text": [
      "0.98167 \n",
      "\n"
     ]
    },
    {
     "name": "stderr",
     "output_type": "stream",
     "text": [
      "350it [00:15, 22.39it/s]\n",
      "88it [00:04, 19.17it/s]\n"
     ]
    },
    {
     "name": "stdout",
     "output_type": "stream",
     "text": [
      "0.94714 \n",
      "\n"
     ]
    },
    {
     "name": "stderr",
     "output_type": "stream",
     "text": [
      "350it [00:15, 22.50it/s]\n",
      "175it [00:08, 20.31it/s]\n"
     ]
    },
    {
     "name": "stdout",
     "output_type": "stream",
     "text": [
      "0.99786 \n",
      "\n"
     ]
    },
    {
     "name": "stderr",
     "output_type": "stream",
     "text": [
      "350it [00:15, 22.28it/s]\n",
      "438it [00:20, 21.48it/s]\n"
     ]
    },
    {
     "name": "stdout",
     "output_type": "stream",
     "text": [
      "0.95514 \n",
      "\n"
     ]
    },
    {
     "name": "stderr",
     "output_type": "stream",
     "text": [
      "350it [00:15, 22.20it/s]\n",
      "75it [00:06, 12.48it/s]\n"
     ]
    },
    {
     "name": "stdout",
     "output_type": "stream",
     "text": [
      "0.96333 \n",
      "\n"
     ]
    },
    {
     "name": "stderr",
     "output_type": "stream",
     "text": [
      "175it [00:08, 21.34it/s]\n",
      "88it [00:04, 20.04it/s]\n"
     ]
    },
    {
     "name": "stdout",
     "output_type": "stream",
     "text": [
      "0.96857 \n",
      "\n"
     ]
    },
    {
     "name": "stderr",
     "output_type": "stream",
     "text": [
      "175it [00:08, 21.36it/s]\n",
      "350it [00:16, 21.87it/s]\n"
     ]
    },
    {
     "name": "stdout",
     "output_type": "stream",
     "text": [
      "0.81857 \n",
      "\n"
     ]
    },
    {
     "name": "stderr",
     "output_type": "stream",
     "text": [
      "175it [00:08, 21.43it/s]\n",
      "438it [00:19, 21.98it/s]\n"
     ]
    },
    {
     "name": "stdout",
     "output_type": "stream",
     "text": [
      "0.97857 \n",
      "\n"
     ]
    },
    {
     "name": "stderr",
     "output_type": "stream",
     "text": [
      "175it [00:08, 21.60it/s]\n",
      "75it [00:05, 12.69it/s]\n"
     ]
    },
    {
     "name": "stdout",
     "output_type": "stream",
     "text": [
      "0.99167 \n",
      "\n"
     ]
    },
    {
     "name": "stderr",
     "output_type": "stream",
     "text": [
      "438it [00:19, 22.51it/s]\n",
      "88it [00:04, 19.29it/s]\n"
     ]
    },
    {
     "name": "stdout",
     "output_type": "stream",
     "text": [
      "0.95571 \n",
      "\n"
     ]
    },
    {
     "name": "stderr",
     "output_type": "stream",
     "text": [
      "438it [00:19, 22.50it/s]\n",
      "350it [00:16, 20.86it/s]\n"
     ]
    },
    {
     "name": "stdout",
     "output_type": "stream",
     "text": [
      "0.7775 \n",
      "\n"
     ]
    },
    {
     "name": "stderr",
     "output_type": "stream",
     "text": [
      "438it [00:19, 22.40it/s]\n",
      "175it [00:08, 20.44it/s]\n"
     ]
    },
    {
     "name": "stdout",
     "output_type": "stream",
     "text": [
      "0.99786 \n",
      "\n"
     ]
    },
    {
     "name": "stderr",
     "output_type": "stream",
     "text": [
      "438it [00:19, 22.46it/s]\n",
      "75it [00:06, 12.28it/s]\n"
     ]
    },
    {
     "name": "stdout",
     "output_type": "stream",
     "text": [
      "0.98667 \n",
      "\n"
     ]
    },
    {
     "name": "stderr",
     "output_type": "stream",
     "text": [
      "75it [00:05, 12.91it/s]\n",
      "88it [00:04, 20.05it/s]\n"
     ]
    },
    {
     "name": "stdout",
     "output_type": "stream",
     "text": [
      "0.91571 \n",
      "\n"
     ]
    },
    {
     "name": "stderr",
     "output_type": "stream",
     "text": [
      "75it [00:05, 12.81it/s]\n",
      "350it [00:15, 22.18it/s]\n"
     ]
    },
    {
     "name": "stdout",
     "output_type": "stream",
     "text": [
      "0.66464 \n",
      "\n"
     ]
    },
    {
     "name": "stderr",
     "output_type": "stream",
     "text": [
      "75it [00:05, 12.74it/s]\n",
      "175it [00:08, 21.36it/s]\n"
     ]
    },
    {
     "name": "stdout",
     "output_type": "stream",
     "text": [
      "0.89857 \n",
      "\n"
     ]
    },
    {
     "name": "stderr",
     "output_type": "stream",
     "text": [
      "75it [00:05, 12.62it/s]\n",
      "438it [00:19, 22.08it/s]"
     ]
    },
    {
     "name": "stdout",
     "output_type": "stream",
     "text": [
      "0.85571 \n",
      "\n",
      "\n",
      "The face-to-periocular CMC of ar with KL Div :\n",
      "[0.909887  0.9291405 0.940528  0.9483945 0.9539845]\n",
      "It took 12m 26s\n",
      "\n",
      "The face-to-periocular CMC dictionary with KL Div : \n",
      "{'ethnic': array([0.953995, 0.968065, 0.97396 , 0.976825, 0.97868 ]), 'ar': array([0.909887 , 0.9291405, 0.940528 , 0.9483945, 0.9539845])}\n",
      "It took 0.0h 18.0m\n"
     ]
    },
    {
     "name": "stderr",
     "output_type": "stream",
     "text": [
      "\n"
     ]
    }
   ],
   "source": [
    "test_f2p_identification_kl_div(args, model,T=2.5)"
   ]
  },
  {
   "cell_type": "code",
   "execution_count": 6,
   "id": "e393c3b7",
   "metadata": {},
   "outputs": [
    {
     "name": "stdout",
     "output_type": "stream",
     "text": [
      "The face-to-periocular EER of ethnic with KL divergence start\n"
     ]
    },
    {
     "name": "stderr",
     "output_type": "stream",
     "text": [
      "165it [00:12, 13.50it/s]\n"
     ]
    },
    {
     "name": "stdout",
     "output_type": "stream",
     "text": [
      "\n",
      "face-to-periocular EER of ethnic with KL divergence: 0.05641\n",
      "\n",
      "The face-to-periocular EER of ar with KL divergence start\n"
     ]
    },
    {
     "name": "stderr",
     "output_type": "stream",
     "text": [
      "50it [00:06,  7.52it/s]\n"
     ]
    },
    {
     "name": "stdout",
     "output_type": "stream",
     "text": [
      "\n",
      "face-to-periocular EER of ar with KL divergence: 0.09321\n",
      "\n",
      "The face-to-periocular EER dictionary with KL divergence : \n",
      "{'ethnic': 0.05641, 'ar': 0.09321}\n"
     ]
    }
   ],
   "source": [
    "test_f2p_verification_kl_div(args, model,T=1)"
   ]
  },
  {
   "cell_type": "code",
   "execution_count": 7,
   "id": "c58c9a91",
   "metadata": {},
   "outputs": [
    {
     "name": "stdout",
     "output_type": "stream",
     "text": [
      "The face-to-periocular EER of ethnic with KL divergence start\n"
     ]
    },
    {
     "name": "stderr",
     "output_type": "stream",
     "text": [
      "165it [00:07, 21.31it/s]\n"
     ]
    },
    {
     "name": "stdout",
     "output_type": "stream",
     "text": [
      "\n",
      "face-to-periocular EER of ethnic with KL divergence: 0.06496\n",
      "\n",
      "The face-to-periocular EER of ar with KL divergence start\n"
     ]
    },
    {
     "name": "stderr",
     "output_type": "stream",
     "text": [
      "50it [00:06,  7.68it/s]\n"
     ]
    },
    {
     "name": "stdout",
     "output_type": "stream",
     "text": [
      "\n",
      "face-to-periocular EER of ar with KL divergence: 0.09759\n",
      "\n",
      "The face-to-periocular EER dictionary with KL divergence : \n",
      "{'ethnic': 0.06496, 'ar': 0.09759}\n"
     ]
    }
   ],
   "source": [
    "test_f2p_verification_kl_div(args, model,T=2.5)"
   ]
  },
  {
   "cell_type": "code",
   "execution_count": null,
   "id": "239b27f3",
   "metadata": {},
   "outputs": [],
   "source": []
  }
 ],
 "metadata": {
  "kernelspec": {
   "display_name": "Python 3 (ipykernel)",
   "language": "python",
   "name": "python3"
  },
  "language_info": {
   "codemirror_mode": {
    "name": "ipython",
    "version": 3
   },
   "file_extension": ".py",
   "mimetype": "text/x-python",
   "name": "python",
   "nbconvert_exporter": "python",
   "pygments_lexer": "ipython3",
   "version": "3.12.7"
  }
 },
 "nbformat": 4,
 "nbformat_minor": 5
}
